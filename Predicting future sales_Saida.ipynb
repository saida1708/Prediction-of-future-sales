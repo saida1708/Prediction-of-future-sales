{
 "cells": [
  {
   "cell_type": "code",
   "execution_count": 1,
   "metadata": {},
   "outputs": [
    {
     "name": "stdout",
     "output_type": "stream",
     "text": [
      "C:\\Users\\Sinam\\anaconda3\\python.exe\n"
     ]
    }
   ],
   "source": [
    "import pandas as pd\n",
    "import matplotlib.pyplot as plt\n",
    "import seaborn as sns\n",
    "import numpy as np\n",
    "import sys\n",
    "print(sys.executable)\n"
   ]
  },
  {
   "cell_type": "code",
   "execution_count": 2,
   "metadata": {},
   "outputs": [],
   "source": [
    "train = pd.read_csv(r'sales_train.csv')\n",
    "items = pd.read_csv(r'items.csv')\n",
    "categories = pd.read_csv(r'item_categories.csv')\n",
    "shops = pd.read_csv(r'shops.csv')\n",
    "test = pd.read_csv(r'test.csv')\n",
    "submission = pd.read_csv(r'sample_submission.csv')"
   ]
  },
  {
   "cell_type": "code",
   "execution_count": 3,
   "metadata": {
    "scrolled": true
   },
   "outputs": [
    {
     "data": {
      "text/html": [
       "<div>\n",
       "<style scoped>\n",
       "    .dataframe tbody tr th:only-of-type {\n",
       "        vertical-align: middle;\n",
       "    }\n",
       "\n",
       "    .dataframe tbody tr th {\n",
       "        vertical-align: top;\n",
       "    }\n",
       "\n",
       "    .dataframe thead th {\n",
       "        text-align: right;\n",
       "    }\n",
       "</style>\n",
       "<table border=\"1\" class=\"dataframe\">\n",
       "  <thead>\n",
       "    <tr style=\"text-align: right;\">\n",
       "      <th></th>\n",
       "      <th>date</th>\n",
       "      <th>date_block_num</th>\n",
       "      <th>shop_id</th>\n",
       "      <th>item_id</th>\n",
       "      <th>item_price</th>\n",
       "      <th>item_cnt_day</th>\n",
       "    </tr>\n",
       "  </thead>\n",
       "  <tbody>\n",
       "    <tr>\n",
       "      <th>0</th>\n",
       "      <td>02.01.2013</td>\n",
       "      <td>0</td>\n",
       "      <td>59</td>\n",
       "      <td>22154</td>\n",
       "      <td>999.00</td>\n",
       "      <td>1.0</td>\n",
       "    </tr>\n",
       "    <tr>\n",
       "      <th>1</th>\n",
       "      <td>03.01.2013</td>\n",
       "      <td>0</td>\n",
       "      <td>25</td>\n",
       "      <td>2552</td>\n",
       "      <td>899.00</td>\n",
       "      <td>1.0</td>\n",
       "    </tr>\n",
       "    <tr>\n",
       "      <th>2</th>\n",
       "      <td>05.01.2013</td>\n",
       "      <td>0</td>\n",
       "      <td>25</td>\n",
       "      <td>2552</td>\n",
       "      <td>899.00</td>\n",
       "      <td>-1.0</td>\n",
       "    </tr>\n",
       "    <tr>\n",
       "      <th>3</th>\n",
       "      <td>06.01.2013</td>\n",
       "      <td>0</td>\n",
       "      <td>25</td>\n",
       "      <td>2554</td>\n",
       "      <td>1709.05</td>\n",
       "      <td>1.0</td>\n",
       "    </tr>\n",
       "    <tr>\n",
       "      <th>4</th>\n",
       "      <td>15.01.2013</td>\n",
       "      <td>0</td>\n",
       "      <td>25</td>\n",
       "      <td>2555</td>\n",
       "      <td>1099.00</td>\n",
       "      <td>1.0</td>\n",
       "    </tr>\n",
       "  </tbody>\n",
       "</table>\n",
       "</div>"
      ],
      "text/plain": [
       "         date  date_block_num  shop_id  item_id  item_price  item_cnt_day\n",
       "0  02.01.2013               0       59    22154      999.00           1.0\n",
       "1  03.01.2013               0       25     2552      899.00           1.0\n",
       "2  05.01.2013               0       25     2552      899.00          -1.0\n",
       "3  06.01.2013               0       25     2554     1709.05           1.0\n",
       "4  15.01.2013               0       25     2555     1099.00           1.0"
      ]
     },
     "execution_count": 3,
     "metadata": {},
     "output_type": "execute_result"
    }
   ],
   "source": [
    "train.head()"
   ]
  },
  {
   "cell_type": "code",
   "execution_count": 4,
   "metadata": {},
   "outputs": [
    {
     "data": {
      "text/html": [
       "<div>\n",
       "<style scoped>\n",
       "    .dataframe tbody tr th:only-of-type {\n",
       "        vertical-align: middle;\n",
       "    }\n",
       "\n",
       "    .dataframe tbody tr th {\n",
       "        vertical-align: top;\n",
       "    }\n",
       "\n",
       "    .dataframe thead th {\n",
       "        text-align: right;\n",
       "    }\n",
       "</style>\n",
       "<table border=\"1\" class=\"dataframe\">\n",
       "  <thead>\n",
       "    <tr style=\"text-align: right;\">\n",
       "      <th></th>\n",
       "      <th>ID</th>\n",
       "      <th>shop_id</th>\n",
       "      <th>item_id</th>\n",
       "    </tr>\n",
       "  </thead>\n",
       "  <tbody>\n",
       "    <tr>\n",
       "      <th>0</th>\n",
       "      <td>0</td>\n",
       "      <td>5</td>\n",
       "      <td>5037</td>\n",
       "    </tr>\n",
       "    <tr>\n",
       "      <th>1</th>\n",
       "      <td>1</td>\n",
       "      <td>5</td>\n",
       "      <td>5320</td>\n",
       "    </tr>\n",
       "    <tr>\n",
       "      <th>2</th>\n",
       "      <td>2</td>\n",
       "      <td>5</td>\n",
       "      <td>5233</td>\n",
       "    </tr>\n",
       "    <tr>\n",
       "      <th>3</th>\n",
       "      <td>3</td>\n",
       "      <td>5</td>\n",
       "      <td>5232</td>\n",
       "    </tr>\n",
       "    <tr>\n",
       "      <th>4</th>\n",
       "      <td>4</td>\n",
       "      <td>5</td>\n",
       "      <td>5268</td>\n",
       "    </tr>\n",
       "  </tbody>\n",
       "</table>\n",
       "</div>"
      ],
      "text/plain": [
       "   ID  shop_id  item_id\n",
       "0   0        5     5037\n",
       "1   1        5     5320\n",
       "2   2        5     5233\n",
       "3   3        5     5232\n",
       "4   4        5     5268"
      ]
     },
     "execution_count": 4,
     "metadata": {},
     "output_type": "execute_result"
    }
   ],
   "source": [
    "test.head()"
   ]
  },
  {
   "cell_type": "code",
   "execution_count": 5,
   "metadata": {},
   "outputs": [
    {
     "data": {
      "text/plain": [
       "(2935849, 6)"
      ]
     },
     "execution_count": 5,
     "metadata": {},
     "output_type": "execute_result"
    }
   ],
   "source": [
    "train.shape"
   ]
  },
  {
   "cell_type": "code",
   "execution_count": 6,
   "metadata": {},
   "outputs": [
    {
     "data": {
      "text/html": [
       "<div>\n",
       "<style scoped>\n",
       "    .dataframe tbody tr th:only-of-type {\n",
       "        vertical-align: middle;\n",
       "    }\n",
       "\n",
       "    .dataframe tbody tr th {\n",
       "        vertical-align: top;\n",
       "    }\n",
       "\n",
       "    .dataframe thead th {\n",
       "        text-align: right;\n",
       "    }\n",
       "</style>\n",
       "<table border=\"1\" class=\"dataframe\">\n",
       "  <thead>\n",
       "    <tr style=\"text-align: right;\">\n",
       "      <th></th>\n",
       "      <th>ID</th>\n",
       "      <th>shop_id</th>\n",
       "      <th>item_id</th>\n",
       "    </tr>\n",
       "  </thead>\n",
       "  <tbody>\n",
       "    <tr>\n",
       "      <th>0</th>\n",
       "      <td>0</td>\n",
       "      <td>5</td>\n",
       "      <td>5037</td>\n",
       "    </tr>\n",
       "    <tr>\n",
       "      <th>1</th>\n",
       "      <td>1</td>\n",
       "      <td>5</td>\n",
       "      <td>5320</td>\n",
       "    </tr>\n",
       "    <tr>\n",
       "      <th>2</th>\n",
       "      <td>2</td>\n",
       "      <td>5</td>\n",
       "      <td>5233</td>\n",
       "    </tr>\n",
       "    <tr>\n",
       "      <th>3</th>\n",
       "      <td>3</td>\n",
       "      <td>5</td>\n",
       "      <td>5232</td>\n",
       "    </tr>\n",
       "    <tr>\n",
       "      <th>4</th>\n",
       "      <td>4</td>\n",
       "      <td>5</td>\n",
       "      <td>5268</td>\n",
       "    </tr>\n",
       "  </tbody>\n",
       "</table>\n",
       "</div>"
      ],
      "text/plain": [
       "   ID  shop_id  item_id\n",
       "0   0        5     5037\n",
       "1   1        5     5320\n",
       "2   2        5     5233\n",
       "3   3        5     5232\n",
       "4   4        5     5268"
      ]
     },
     "execution_count": 6,
     "metadata": {},
     "output_type": "execute_result"
    }
   ],
   "source": [
    "test.head()"
   ]
  },
  {
   "cell_type": "code",
   "execution_count": 7,
   "metadata": {},
   "outputs": [
    {
     "data": {
      "text/plain": [
       "(214200, 3)"
      ]
     },
     "execution_count": 7,
     "metadata": {},
     "output_type": "execute_result"
    }
   ],
   "source": [
    "test.shape"
   ]
  },
  {
   "cell_type": "code",
   "execution_count": 8,
   "metadata": {},
   "outputs": [
    {
     "data": {
      "text/html": [
       "<div>\n",
       "<style scoped>\n",
       "    .dataframe tbody tr th:only-of-type {\n",
       "        vertical-align: middle;\n",
       "    }\n",
       "\n",
       "    .dataframe tbody tr th {\n",
       "        vertical-align: top;\n",
       "    }\n",
       "\n",
       "    .dataframe thead th {\n",
       "        text-align: right;\n",
       "    }\n",
       "</style>\n",
       "<table border=\"1\" class=\"dataframe\">\n",
       "  <thead>\n",
       "    <tr style=\"text-align: right;\">\n",
       "      <th></th>\n",
       "      <th>ID</th>\n",
       "      <th>item_cnt_month</th>\n",
       "    </tr>\n",
       "  </thead>\n",
       "  <tbody>\n",
       "    <tr>\n",
       "      <th>0</th>\n",
       "      <td>0</td>\n",
       "      <td>0.5</td>\n",
       "    </tr>\n",
       "    <tr>\n",
       "      <th>1</th>\n",
       "      <td>1</td>\n",
       "      <td>0.5</td>\n",
       "    </tr>\n",
       "    <tr>\n",
       "      <th>2</th>\n",
       "      <td>2</td>\n",
       "      <td>0.5</td>\n",
       "    </tr>\n",
       "    <tr>\n",
       "      <th>3</th>\n",
       "      <td>3</td>\n",
       "      <td>0.5</td>\n",
       "    </tr>\n",
       "    <tr>\n",
       "      <th>4</th>\n",
       "      <td>4</td>\n",
       "      <td>0.5</td>\n",
       "    </tr>\n",
       "  </tbody>\n",
       "</table>\n",
       "</div>"
      ],
      "text/plain": [
       "   ID  item_cnt_month\n",
       "0   0             0.5\n",
       "1   1             0.5\n",
       "2   2             0.5\n",
       "3   3             0.5\n",
       "4   4             0.5"
      ]
     },
     "execution_count": 8,
     "metadata": {},
     "output_type": "execute_result"
    }
   ],
   "source": [
    "submission.head()"
   ]
  },
  {
   "cell_type": "code",
   "execution_count": 9,
   "metadata": {},
   "outputs": [
    {
     "data": {
      "image/png": "[encoded data removed]",
      "text/plain": [
       "<Figure size 1296x648 with 5 Axes>"
      ]
     },
     "metadata": {
      "needs_background": "light"
     },
     "output_type": "display_data"
    }
   ],
   "source": [
    "fig = plt.figure(figsize=(18,9))\n",
    "plt.subplots_adjust(hspace=.5)\n",
    "\n",
    "plt.subplot2grid((3,3), (0,0), colspan = 3)\n",
    "train['shop_id'].value_counts(normalize=True).plot(kind='bar', alpha=0.7)\n",
    "plt.title('Shop ID Values in the Training Set (Normalized)')\n",
    "\n",
    "plt.subplot2grid((3,3), (1,0))\n",
    "train['item_id'].plot(kind='hist', alpha=0.7)\n",
    "plt.title('Item ID Histogram')\n",
    "\n",
    "plt.subplot2grid((3,3), (1,1))\n",
    "train['item_price'].plot(kind='hist', alpha=0.7, color='orange')\n",
    "plt.title('Item Price Histogram')\n",
    "\n",
    "plt.subplot2grid((3,3), (1,2))\n",
    "train['item_cnt_day'].plot(kind='hist', alpha=0.7, color='green')\n",
    "plt.title('Item Count Day Histogram')\n",
    "\n",
    "plt.subplot2grid((3,3), (2,0), colspan = 3)\n",
    "train['date_block_num'].value_counts(normalize=True).plot(kind='bar', alpha=0.7)\n",
    "plt.title('Month (date_block_num) Values in the Training Set (Normalized)')\n",
    "\n",
    "plt.show()"
   ]
  },
  {
   "cell_type": "code",
   "execution_count": 10,
   "metadata": {
    "scrolled": true
   },
   "outputs": [
    {
     "data": {
      "text/plain": [
       "20949    31340\n",
       "5822      9408\n",
       "17717     9067\n",
       "2808      7479\n",
       "4181      6853\n",
       "Name: item_id, dtype: int64"
      ]
     },
     "execution_count": 10,
     "metadata": {},
     "output_type": "execute_result"
    }
   ],
   "source": [
    "train['item_id'].value_counts(ascending=False)[:5]"
   ]
  },
  {
   "cell_type": "code",
   "execution_count": 11,
   "metadata": {},
   "outputs": [
    {
     "data": {
      "text/html": [
       "<div>\n",
       "<style scoped>\n",
       "    .dataframe tbody tr th:only-of-type {\n",
       "        vertical-align: middle;\n",
       "    }\n",
       "\n",
       "    .dataframe tbody tr th {\n",
       "        vertical-align: top;\n",
       "    }\n",
       "\n",
       "    .dataframe thead th {\n",
       "        text-align: right;\n",
       "    }\n",
       "</style>\n",
       "<table border=\"1\" class=\"dataframe\">\n",
       "  <thead>\n",
       "    <tr style=\"text-align: right;\">\n",
       "      <th></th>\n",
       "      <th>item_name</th>\n",
       "      <th>item_id</th>\n",
       "      <th>item_category_id</th>\n",
       "    </tr>\n",
       "  </thead>\n",
       "  <tbody>\n",
       "    <tr>\n",
       "      <th>20949</th>\n",
       "      <td>Фирменный пакет майка 1С Интерес белый (34*42)...</td>\n",
       "      <td>20949</td>\n",
       "      <td>71</td>\n",
       "    </tr>\n",
       "  </tbody>\n",
       "</table>\n",
       "</div>"
      ],
      "text/plain": [
       "                                               item_name  item_id  \\\n",
       "20949  Фирменный пакет майка 1С Интерес белый (34*42)...    20949   \n",
       "\n",
       "       item_category_id  \n",
       "20949                71  "
      ]
     },
     "execution_count": 11,
     "metadata": {},
     "output_type": "execute_result"
    }
   ],
   "source": [
    "items.loc[items['item_id']==20949]"
   ]
  },
  {
   "cell_type": "code",
   "execution_count": 12,
   "metadata": {},
   "outputs": [
    {
     "data": {
      "text/html": [
       "<div>\n",
       "<style scoped>\n",
       "    .dataframe tbody tr th:only-of-type {\n",
       "        vertical-align: middle;\n",
       "    }\n",
       "\n",
       "    .dataframe tbody tr th {\n",
       "        vertical-align: top;\n",
       "    }\n",
       "\n",
       "    .dataframe thead th {\n",
       "        text-align: right;\n",
       "    }\n",
       "</style>\n",
       "<table border=\"1\" class=\"dataframe\">\n",
       "  <thead>\n",
       "    <tr style=\"text-align: right;\">\n",
       "      <th></th>\n",
       "      <th>item_category_name</th>\n",
       "      <th>item_category_id</th>\n",
       "    </tr>\n",
       "  </thead>\n",
       "  <tbody>\n",
       "    <tr>\n",
       "      <th>71</th>\n",
       "      <td>Подарки - Сумки, Альбомы, Коврики д/мыши</td>\n",
       "      <td>71</td>\n",
       "    </tr>\n",
       "  </tbody>\n",
       "</table>\n",
       "</div>"
      ],
      "text/plain": [
       "                          item_category_name  item_category_id\n",
       "71  Подарки - Сумки, Альбомы, Коврики д/мыши                71"
      ]
     },
     "execution_count": 12,
     "metadata": {},
     "output_type": "execute_result"
    }
   ],
   "source": [
    "categories.loc[categories['item_category_id']==71]"
   ]
  },
  {
   "cell_type": "code",
   "execution_count": 13,
   "metadata": {},
   "outputs": [
    {
     "data": {
      "text/html": [
       "<div>\n",
       "<style scoped>\n",
       "    .dataframe tbody tr th:only-of-type {\n",
       "        vertical-align: middle;\n",
       "    }\n",
       "\n",
       "    .dataframe tbody tr th {\n",
       "        vertical-align: top;\n",
       "    }\n",
       "\n",
       "    .dataframe thead th {\n",
       "        text-align: right;\n",
       "    }\n",
       "</style>\n",
       "<table border=\"1\" class=\"dataframe\">\n",
       "  <thead>\n",
       "    <tr style=\"text-align: right;\">\n",
       "      <th></th>\n",
       "      <th>ID</th>\n",
       "      <th>shop_id</th>\n",
       "      <th>item_id</th>\n",
       "    </tr>\n",
       "  </thead>\n",
       "  <tbody>\n",
       "    <tr>\n",
       "      <th>460</th>\n",
       "      <td>460</td>\n",
       "      <td>5</td>\n",
       "      <td>20949</td>\n",
       "    </tr>\n",
       "    <tr>\n",
       "      <th>5560</th>\n",
       "      <td>5560</td>\n",
       "      <td>4</td>\n",
       "      <td>20949</td>\n",
       "    </tr>\n",
       "    <tr>\n",
       "      <th>10660</th>\n",
       "      <td>10660</td>\n",
       "      <td>6</td>\n",
       "      <td>20949</td>\n",
       "    </tr>\n",
       "    <tr>\n",
       "      <th>15760</th>\n",
       "      <td>15760</td>\n",
       "      <td>3</td>\n",
       "      <td>20949</td>\n",
       "    </tr>\n",
       "    <tr>\n",
       "      <th>20860</th>\n",
       "      <td>20860</td>\n",
       "      <td>2</td>\n",
       "      <td>20949</td>\n",
       "    </tr>\n",
       "  </tbody>\n",
       "</table>\n",
       "</div>"
      ],
      "text/plain": [
       "          ID  shop_id  item_id\n",
       "460      460        5    20949\n",
       "5560    5560        4    20949\n",
       "10660  10660        6    20949\n",
       "15760  15760        3    20949\n",
       "20860  20860        2    20949"
      ]
     },
     "execution_count": 13,
     "metadata": {},
     "output_type": "execute_result"
    }
   ],
   "source": [
    "test.loc[test['item_id']==20949].head(5)"
   ]
  },
  {
   "cell_type": "code",
   "execution_count": 14,
   "metadata": {},
   "outputs": [
    {
     "data": {
      "text/plain": [
       "2909818    2169.0\n",
       "2326930    1000.0\n",
       "2864235     669.0\n",
       "2851091     637.0\n",
       "2608040     624.0\n",
       "Name: item_cnt_day, dtype: float64"
      ]
     },
     "execution_count": 14,
     "metadata": {},
     "output_type": "execute_result"
    }
   ],
   "source": [
    "train['item_cnt_day'].sort_values(ascending=False)[:5]"
   ]
  },
  {
   "cell_type": "code",
   "execution_count": 15,
   "metadata": {},
   "outputs": [
    {
     "data": {
      "text/html": [
       "<div>\n",
       "<style scoped>\n",
       "    .dataframe tbody tr th:only-of-type {\n",
       "        vertical-align: middle;\n",
       "    }\n",
       "\n",
       "    .dataframe tbody tr th {\n",
       "        vertical-align: top;\n",
       "    }\n",
       "\n",
       "    .dataframe thead th {\n",
       "        text-align: right;\n",
       "    }\n",
       "</style>\n",
       "<table border=\"1\" class=\"dataframe\">\n",
       "  <thead>\n",
       "    <tr style=\"text-align: right;\">\n",
       "      <th></th>\n",
       "      <th>date</th>\n",
       "      <th>date_block_num</th>\n",
       "      <th>shop_id</th>\n",
       "      <th>item_id</th>\n",
       "      <th>item_price</th>\n",
       "      <th>item_cnt_day</th>\n",
       "    </tr>\n",
       "  </thead>\n",
       "  <tbody>\n",
       "    <tr>\n",
       "      <th>2909818</th>\n",
       "      <td>28.10.2015</td>\n",
       "      <td>33</td>\n",
       "      <td>12</td>\n",
       "      <td>11373</td>\n",
       "      <td>0.908714</td>\n",
       "      <td>2169.0</td>\n",
       "    </tr>\n",
       "  </tbody>\n",
       "</table>\n",
       "</div>"
      ],
      "text/plain": [
       "               date  date_block_num  shop_id  item_id  item_price  \\\n",
       "2909818  28.10.2015              33       12    11373    0.908714   \n",
       "\n",
       "         item_cnt_day  \n",
       "2909818        2169.0  "
      ]
     },
     "execution_count": 15,
     "metadata": {},
     "output_type": "execute_result"
    }
   ],
   "source": [
    "train[train['item_cnt_day'] == 2169]"
   ]
  },
  {
   "cell_type": "code",
   "execution_count": 16,
   "metadata": {},
   "outputs": [
    {
     "data": {
      "text/html": [
       "<div>\n",
       "<style scoped>\n",
       "    .dataframe tbody tr th:only-of-type {\n",
       "        vertical-align: middle;\n",
       "    }\n",
       "\n",
       "    .dataframe tbody tr th {\n",
       "        vertical-align: top;\n",
       "    }\n",
       "\n",
       "    .dataframe thead th {\n",
       "        text-align: right;\n",
       "    }\n",
       "</style>\n",
       "<table border=\"1\" class=\"dataframe\">\n",
       "  <thead>\n",
       "    <tr style=\"text-align: right;\">\n",
       "      <th></th>\n",
       "      <th>item_name</th>\n",
       "      <th>item_id</th>\n",
       "      <th>item_category_id</th>\n",
       "    </tr>\n",
       "  </thead>\n",
       "  <tbody>\n",
       "    <tr>\n",
       "      <th>11373</th>\n",
       "      <td>Доставка до пункта выдачи (Boxberry)</td>\n",
       "      <td>11373</td>\n",
       "      <td>9</td>\n",
       "    </tr>\n",
       "  </tbody>\n",
       "</table>\n",
       "</div>"
      ],
      "text/plain": [
       "                                  item_name  item_id  item_category_id\n",
       "11373  Доставка до пункта выдачи (Boxberry)    11373                 9"
      ]
     },
     "execution_count": 16,
     "metadata": {},
     "output_type": "execute_result"
    }
   ],
   "source": [
    "items[items['item_id'] == 11373]"
   ]
  },
  {
   "cell_type": "code",
   "execution_count": 17,
   "metadata": {},
   "outputs": [
    {
     "data": {
      "text/html": [
       "<div>\n",
       "<style scoped>\n",
       "    .dataframe tbody tr th:only-of-type {\n",
       "        vertical-align: middle;\n",
       "    }\n",
       "\n",
       "    .dataframe tbody tr th {\n",
       "        vertical-align: top;\n",
       "    }\n",
       "\n",
       "    .dataframe thead th {\n",
       "        text-align: right;\n",
       "    }\n",
       "</style>\n",
       "<table border=\"1\" class=\"dataframe\">\n",
       "  <thead>\n",
       "    <tr style=\"text-align: right;\">\n",
       "      <th></th>\n",
       "      <th>date</th>\n",
       "      <th>date_block_num</th>\n",
       "      <th>shop_id</th>\n",
       "      <th>item_id</th>\n",
       "      <th>item_price</th>\n",
       "      <th>item_cnt_day</th>\n",
       "    </tr>\n",
       "  </thead>\n",
       "  <tbody>\n",
       "    <tr>\n",
       "      <th>58323</th>\n",
       "      <td>08.01.2013</td>\n",
       "      <td>0</td>\n",
       "      <td>12</td>\n",
       "      <td>11373</td>\n",
       "      <td>1000.0</td>\n",
       "      <td>1.0</td>\n",
       "    </tr>\n",
       "    <tr>\n",
       "      <th>58324</th>\n",
       "      <td>31.01.2013</td>\n",
       "      <td>0</td>\n",
       "      <td>12</td>\n",
       "      <td>11373</td>\n",
       "      <td>97.8</td>\n",
       "      <td>5.0</td>\n",
       "    </tr>\n",
       "    <tr>\n",
       "      <th>176790</th>\n",
       "      <td>01.02.2013</td>\n",
       "      <td>1</td>\n",
       "      <td>12</td>\n",
       "      <td>11373</td>\n",
       "      <td>229.0</td>\n",
       "      <td>1.0</td>\n",
       "    </tr>\n",
       "    <tr>\n",
       "      <th>176791</th>\n",
       "      <td>04.02.2013</td>\n",
       "      <td>1</td>\n",
       "      <td>12</td>\n",
       "      <td>11373</td>\n",
       "      <td>130.0</td>\n",
       "      <td>1.0</td>\n",
       "    </tr>\n",
       "    <tr>\n",
       "      <th>302468</th>\n",
       "      <td>29.03.2013</td>\n",
       "      <td>2</td>\n",
       "      <td>12</td>\n",
       "      <td>11373</td>\n",
       "      <td>139.5</td>\n",
       "      <td>2.0</td>\n",
       "    </tr>\n",
       "  </tbody>\n",
       "</table>\n",
       "</div>"
      ],
      "text/plain": [
       "              date  date_block_num  shop_id  item_id  item_price  item_cnt_day\n",
       "58323   08.01.2013               0       12    11373      1000.0           1.0\n",
       "58324   31.01.2013               0       12    11373        97.8           5.0\n",
       "176790  01.02.2013               1       12    11373       229.0           1.0\n",
       "176791  04.02.2013               1       12    11373       130.0           1.0\n",
       "302468  29.03.2013               2       12    11373       139.5           2.0"
      ]
     },
     "execution_count": 17,
     "metadata": {},
     "output_type": "execute_result"
    }
   ],
   "source": [
    "train[train['item_id'] == 11373].head(5)"
   ]
  },
  {
   "cell_type": "code",
   "execution_count": 18,
   "metadata": {},
   "outputs": [],
   "source": [
    "train = train[train['item_cnt_day'] < 2000]"
   ]
  },
  {
   "cell_type": "code",
   "execution_count": 19,
   "metadata": {},
   "outputs": [
    {
     "data": {
      "text/plain": [
       "1163158    307980.0\n",
       "885138      59200.0\n",
       "1488135     50999.0\n",
       "2327159     49782.0\n",
       "2917760     42990.0\n",
       "Name: item_price, dtype: float64"
      ]
     },
     "execution_count": 19,
     "metadata": {},
     "output_type": "execute_result"
    }
   ],
   "source": [
    "train['item_price'].sort_values(ascending=False)[:5]"
   ]
  },
  {
   "cell_type": "code",
   "execution_count": 20,
   "metadata": {},
   "outputs": [
    {
     "data": {
      "text/html": [
       "<div>\n",
       "<style scoped>\n",
       "    .dataframe tbody tr th:only-of-type {\n",
       "        vertical-align: middle;\n",
       "    }\n",
       "\n",
       "    .dataframe tbody tr th {\n",
       "        vertical-align: top;\n",
       "    }\n",
       "\n",
       "    .dataframe thead th {\n",
       "        text-align: right;\n",
       "    }\n",
       "</style>\n",
       "<table border=\"1\" class=\"dataframe\">\n",
       "  <thead>\n",
       "    <tr style=\"text-align: right;\">\n",
       "      <th></th>\n",
       "      <th>date</th>\n",
       "      <th>date_block_num</th>\n",
       "      <th>shop_id</th>\n",
       "      <th>item_id</th>\n",
       "      <th>item_price</th>\n",
       "      <th>item_cnt_day</th>\n",
       "    </tr>\n",
       "  </thead>\n",
       "  <tbody>\n",
       "    <tr>\n",
       "      <th>1163158</th>\n",
       "      <td>13.12.2013</td>\n",
       "      <td>11</td>\n",
       "      <td>12</td>\n",
       "      <td>6066</td>\n",
       "      <td>307980.0</td>\n",
       "      <td>1.0</td>\n",
       "    </tr>\n",
       "  </tbody>\n",
       "</table>\n",
       "</div>"
      ],
      "text/plain": [
       "               date  date_block_num  shop_id  item_id  item_price  \\\n",
       "1163158  13.12.2013              11       12     6066    307980.0   \n",
       "\n",
       "         item_cnt_day  \n",
       "1163158           1.0  "
      ]
     },
     "execution_count": 20,
     "metadata": {},
     "output_type": "execute_result"
    }
   ],
   "source": [
    "train[train['item_price'] == 307980]"
   ]
  },
  {
   "cell_type": "code",
   "execution_count": 21,
   "metadata": {},
   "outputs": [
    {
     "data": {
      "text/html": [
       "<div>\n",
       "<style scoped>\n",
       "    .dataframe tbody tr th:only-of-type {\n",
       "        vertical-align: middle;\n",
       "    }\n",
       "\n",
       "    .dataframe tbody tr th {\n",
       "        vertical-align: top;\n",
       "    }\n",
       "\n",
       "    .dataframe thead th {\n",
       "        text-align: right;\n",
       "    }\n",
       "</style>\n",
       "<table border=\"1\" class=\"dataframe\">\n",
       "  <thead>\n",
       "    <tr style=\"text-align: right;\">\n",
       "      <th></th>\n",
       "      <th>item_name</th>\n",
       "      <th>item_id</th>\n",
       "      <th>item_category_id</th>\n",
       "    </tr>\n",
       "  </thead>\n",
       "  <tbody>\n",
       "    <tr>\n",
       "      <th>6066</th>\n",
       "      <td>Radmin 3  - 522 лиц.</td>\n",
       "      <td>6066</td>\n",
       "      <td>75</td>\n",
       "    </tr>\n",
       "  </tbody>\n",
       "</table>\n",
       "</div>"
      ],
      "text/plain": [
       "                 item_name  item_id  item_category_id\n",
       "6066  Radmin 3  - 522 лиц.     6066                75"
      ]
     },
     "execution_count": 21,
     "metadata": {},
     "output_type": "execute_result"
    }
   ],
   "source": [
    "items[items['item_id'] == 6066]"
   ]
  },
  {
   "cell_type": "code",
   "execution_count": 22,
   "metadata": {},
   "outputs": [
    {
     "data": {
      "text/html": [
       "<div>\n",
       "<style scoped>\n",
       "    .dataframe tbody tr th:only-of-type {\n",
       "        vertical-align: middle;\n",
       "    }\n",
       "\n",
       "    .dataframe tbody tr th {\n",
       "        vertical-align: top;\n",
       "    }\n",
       "\n",
       "    .dataframe thead th {\n",
       "        text-align: right;\n",
       "    }\n",
       "</style>\n",
       "<table border=\"1\" class=\"dataframe\">\n",
       "  <thead>\n",
       "    <tr style=\"text-align: right;\">\n",
       "      <th></th>\n",
       "      <th>date</th>\n",
       "      <th>date_block_num</th>\n",
       "      <th>shop_id</th>\n",
       "      <th>item_id</th>\n",
       "      <th>item_price</th>\n",
       "      <th>item_cnt_day</th>\n",
       "    </tr>\n",
       "  </thead>\n",
       "  <tbody>\n",
       "    <tr>\n",
       "      <th>1163158</th>\n",
       "      <td>13.12.2013</td>\n",
       "      <td>11</td>\n",
       "      <td>12</td>\n",
       "      <td>6066</td>\n",
       "      <td>307980.0</td>\n",
       "      <td>1.0</td>\n",
       "    </tr>\n",
       "  </tbody>\n",
       "</table>\n",
       "</div>"
      ],
      "text/plain": [
       "               date  date_block_num  shop_id  item_id  item_price  \\\n",
       "1163158  13.12.2013              11       12     6066    307980.0   \n",
       "\n",
       "         item_cnt_day  \n",
       "1163158           1.0  "
      ]
     },
     "execution_count": 22,
     "metadata": {},
     "output_type": "execute_result"
    }
   ],
   "source": [
    "train[train['item_id'] == 6066]"
   ]
  },
  {
   "cell_type": "code",
   "execution_count": 23,
   "metadata": {},
   "outputs": [],
   "source": [
    "train = train[train['item_price'] < 300000]"
   ]
  },
  {
   "cell_type": "code",
   "execution_count": 24,
   "metadata": {},
   "outputs": [
    {
     "data": {
      "text/plain": [
       "484683   -1.0000\n",
       "608763    0.0700\n",
       "579766    0.0700\n",
       "611400    0.0875\n",
       "673155    0.0900\n",
       "Name: item_price, dtype: float64"
      ]
     },
     "execution_count": 24,
     "metadata": {},
     "output_type": "execute_result"
    }
   ],
   "source": [
    "train['item_price'].sort_values()[:5]"
   ]
  },
  {
   "cell_type": "code",
   "execution_count": 25,
   "metadata": {},
   "outputs": [
    {
     "data": {
      "text/html": [
       "<div>\n",
       "<style scoped>\n",
       "    .dataframe tbody tr th:only-of-type {\n",
       "        vertical-align: middle;\n",
       "    }\n",
       "\n",
       "    .dataframe tbody tr th {\n",
       "        vertical-align: top;\n",
       "    }\n",
       "\n",
       "    .dataframe thead th {\n",
       "        text-align: right;\n",
       "    }\n",
       "</style>\n",
       "<table border=\"1\" class=\"dataframe\">\n",
       "  <thead>\n",
       "    <tr style=\"text-align: right;\">\n",
       "      <th></th>\n",
       "      <th>date</th>\n",
       "      <th>date_block_num</th>\n",
       "      <th>shop_id</th>\n",
       "      <th>item_id</th>\n",
       "      <th>item_price</th>\n",
       "      <th>item_cnt_day</th>\n",
       "    </tr>\n",
       "  </thead>\n",
       "  <tbody>\n",
       "    <tr>\n",
       "      <th>484683</th>\n",
       "      <td>15.05.2013</td>\n",
       "      <td>4</td>\n",
       "      <td>32</td>\n",
       "      <td>2973</td>\n",
       "      <td>-1.0</td>\n",
       "      <td>1.0</td>\n",
       "    </tr>\n",
       "  </tbody>\n",
       "</table>\n",
       "</div>"
      ],
      "text/plain": [
       "              date  date_block_num  shop_id  item_id  item_price  item_cnt_day\n",
       "484683  15.05.2013               4       32     2973        -1.0           1.0"
      ]
     },
     "execution_count": 25,
     "metadata": {},
     "output_type": "execute_result"
    }
   ],
   "source": [
    "train[train['item_price'] == -1]"
   ]
  },
  {
   "cell_type": "code",
   "execution_count": 26,
   "metadata": {},
   "outputs": [
    {
     "data": {
      "text/html": [
       "<div>\n",
       "<style scoped>\n",
       "    .dataframe tbody tr th:only-of-type {\n",
       "        vertical-align: middle;\n",
       "    }\n",
       "\n",
       "    .dataframe tbody tr th {\n",
       "        vertical-align: top;\n",
       "    }\n",
       "\n",
       "    .dataframe thead th {\n",
       "        text-align: right;\n",
       "    }\n",
       "</style>\n",
       "<table border=\"1\" class=\"dataframe\">\n",
       "  <thead>\n",
       "    <tr style=\"text-align: right;\">\n",
       "      <th></th>\n",
       "      <th>date</th>\n",
       "      <th>date_block_num</th>\n",
       "      <th>shop_id</th>\n",
       "      <th>item_id</th>\n",
       "      <th>item_price</th>\n",
       "      <th>item_cnt_day</th>\n",
       "    </tr>\n",
       "  </thead>\n",
       "  <tbody>\n",
       "    <tr>\n",
       "      <th>352</th>\n",
       "      <td>15.01.2013</td>\n",
       "      <td>0</td>\n",
       "      <td>25</td>\n",
       "      <td>2973</td>\n",
       "      <td>2499.0</td>\n",
       "      <td>13.0</td>\n",
       "    </tr>\n",
       "    <tr>\n",
       "      <th>353</th>\n",
       "      <td>16.01.2013</td>\n",
       "      <td>0</td>\n",
       "      <td>25</td>\n",
       "      <td>2973</td>\n",
       "      <td>2499.0</td>\n",
       "      <td>5.0</td>\n",
       "    </tr>\n",
       "    <tr>\n",
       "      <th>354</th>\n",
       "      <td>17.01.2013</td>\n",
       "      <td>0</td>\n",
       "      <td>25</td>\n",
       "      <td>2973</td>\n",
       "      <td>2499.0</td>\n",
       "      <td>3.0</td>\n",
       "    </tr>\n",
       "    <tr>\n",
       "      <th>355</th>\n",
       "      <td>18.01.2013</td>\n",
       "      <td>0</td>\n",
       "      <td>25</td>\n",
       "      <td>2973</td>\n",
       "      <td>2499.0</td>\n",
       "      <td>2.0</td>\n",
       "    </tr>\n",
       "    <tr>\n",
       "      <th>356</th>\n",
       "      <td>19.01.2013</td>\n",
       "      <td>0</td>\n",
       "      <td>25</td>\n",
       "      <td>2973</td>\n",
       "      <td>2499.0</td>\n",
       "      <td>3.0</td>\n",
       "    </tr>\n",
       "  </tbody>\n",
       "</table>\n",
       "</div>"
      ],
      "text/plain": [
       "           date  date_block_num  shop_id  item_id  item_price  item_cnt_day\n",
       "352  15.01.2013               0       25     2973      2499.0          13.0\n",
       "353  16.01.2013               0       25     2973      2499.0           5.0\n",
       "354  17.01.2013               0       25     2973      2499.0           3.0\n",
       "355  18.01.2013               0       25     2973      2499.0           2.0\n",
       "356  19.01.2013               0       25     2973      2499.0           3.0"
      ]
     },
     "execution_count": 26,
     "metadata": {},
     "output_type": "execute_result"
    }
   ],
   "source": [
    "train[train['item_id'] == 2973].head(5)"
   ]
  },
  {
   "cell_type": "code",
   "execution_count": 27,
   "metadata": {},
   "outputs": [],
   "source": [
    "price_correction = train[(train['shop_id'] == 32) & (train['item_id'] == 2973)\n",
    "                         & (train['date_block_num'] == 4) & (train['item_price'] > 0)].item_price.median()\n",
    "train.loc[train['item_price'] < 0, 'item_price'] = price_correction"
   ]
  },
  {
   "cell_type": "code",
   "execution_count": 28,
   "metadata": {},
   "outputs": [
    {
     "data": {
      "image/png": "[encoded data removed]",
      "text/plain": [
       "<Figure size 432x288 with 2 Axes>"
      ]
     },
     "metadata": {
      "needs_background": "light"
     },
     "output_type": "display_data"
    }
   ],
   "source": [
    "plt.subplots_adjust(hspace=.5)\n",
    "\n",
    "plt.subplot2grid((3,3), (0,0), colspan = 3)\n",
    "test['shop_id'].value_counts(normalize=True).plot(kind='bar', alpha=0.7)\n",
    "plt.title('Shop ID Values in the Test Set (Normalized)')\n",
    "\n",
    "plt.subplot2grid((3,3), (1,0))\n",
    "test['item_id'].plot(kind='hist', alpha=0.7)\n",
    "plt.title('Item ID Histogram - Test Set')\n",
    "\n",
    "plt.show()"
   ]
  },
  {
   "cell_type": "markdown",
   "metadata": {},
   "source": [
    "# Shops analysis"
   ]
  },
  {
   "cell_type": "code",
   "execution_count": 29,
   "metadata": {},
   "outputs": [
    {
     "name": "stdout",
     "output_type": "stream",
     "text": [
      "Shops in Training Set:  60\n",
      "Shops in Test Set:  42\n"
     ]
    }
   ],
   "source": [
    "shops_train = train['shop_id'].nunique()\n",
    "shops_test = test['shop_id'].nunique()\n",
    "print('Shops in Training Set: ', shops_train)\n",
    "print('Shops in Test Set: ', shops_test)"
   ]
  },
  {
   "cell_type": "code",
   "execution_count": 30,
   "metadata": {},
   "outputs": [
    {
     "name": "stdout",
     "output_type": "stream",
     "text": [
      "Yes, list is subset of other.\n"
     ]
    }
   ],
   "source": [
    "shops_train_list = list(train['shop_id'].unique())\n",
    "shops_test_list = list(test['shop_id'].unique())\n",
    "\n",
    "flag = 0\n",
    "if(set(shops_test_list).issubset(set(shops_train_list))): \n",
    "    flag = 1\n",
    "      \n",
    "if (flag) : \n",
    "    print (\"Yes, list is subset of other.\") \n",
    "else : \n",
    "    print (\"No, list is not subset of other.\") "
   ]
  },
  {
   "cell_type": "code",
   "execution_count": 31,
   "metadata": {},
   "outputs": [
    {
     "data": {
      "text/html": [
       "<div>\n",
       "<style scoped>\n",
       "    .dataframe tbody tr th:only-of-type {\n",
       "        vertical-align: middle;\n",
       "    }\n",
       "\n",
       "    .dataframe tbody tr th {\n",
       "        vertical-align: top;\n",
       "    }\n",
       "\n",
       "    .dataframe thead th {\n",
       "        text-align: right;\n",
       "    }\n",
       "</style>\n",
       "<table border=\"1\" class=\"dataframe\">\n",
       "  <thead>\n",
       "    <tr style=\"text-align: right;\">\n",
       "      <th></th>\n",
       "      <th>0</th>\n",
       "      <th>1</th>\n",
       "      <th>2</th>\n",
       "      <th>3</th>\n",
       "      <th>4</th>\n",
       "      <th>5</th>\n",
       "      <th>6</th>\n",
       "      <th>7</th>\n",
       "      <th>8</th>\n",
       "      <th>9</th>\n",
       "      <th>...</th>\n",
       "      <th>50</th>\n",
       "      <th>51</th>\n",
       "      <th>52</th>\n",
       "      <th>53</th>\n",
       "      <th>54</th>\n",
       "      <th>55</th>\n",
       "      <th>56</th>\n",
       "      <th>57</th>\n",
       "      <th>58</th>\n",
       "      <th>59</th>\n",
       "    </tr>\n",
       "  </thead>\n",
       "  <tbody>\n",
       "    <tr>\n",
       "      <th>shop_name</th>\n",
       "      <td>!Якутск Орджоникидзе, 56 фран</td>\n",
       "      <td>!Якутск ТЦ \"Центральный\" фран</td>\n",
       "      <td>Адыгея ТЦ \"Мега\"</td>\n",
       "      <td>Балашиха ТРК \"Октябрь-Киномир\"</td>\n",
       "      <td>Волжский ТЦ \"Волга Молл\"</td>\n",
       "      <td>Вологда ТРЦ \"Мармелад\"</td>\n",
       "      <td>Воронеж (Плехановская, 13)</td>\n",
       "      <td>Воронеж ТРЦ \"Максимир\"</td>\n",
       "      <td>Воронеж ТРЦ Сити-Парк \"Град\"</td>\n",
       "      <td>Выездная Торговля</td>\n",
       "      <td>...</td>\n",
       "      <td>Тюмень ТЦ \"Гудвин\"</td>\n",
       "      <td>Тюмень ТЦ \"Зеленый Берег\"</td>\n",
       "      <td>Уфа ТК \"Центральный\"</td>\n",
       "      <td>Уфа ТЦ \"Семья\" 2</td>\n",
       "      <td>Химки ТЦ \"Мега\"</td>\n",
       "      <td>Цифровой склад 1С-Онлайн</td>\n",
       "      <td>Чехов ТРЦ \"Карнавал\"</td>\n",
       "      <td>Якутск Орджоникидзе, 56</td>\n",
       "      <td>Якутск ТЦ \"Центральный\"</td>\n",
       "      <td>Ярославль ТЦ \"Альтаир\"</td>\n",
       "    </tr>\n",
       "    <tr>\n",
       "      <th>shop_id</th>\n",
       "      <td>0</td>\n",
       "      <td>1</td>\n",
       "      <td>2</td>\n",
       "      <td>3</td>\n",
       "      <td>4</td>\n",
       "      <td>5</td>\n",
       "      <td>6</td>\n",
       "      <td>7</td>\n",
       "      <td>8</td>\n",
       "      <td>9</td>\n",
       "      <td>...</td>\n",
       "      <td>50</td>\n",
       "      <td>51</td>\n",
       "      <td>52</td>\n",
       "      <td>53</td>\n",
       "      <td>54</td>\n",
       "      <td>55</td>\n",
       "      <td>56</td>\n",
       "      <td>57</td>\n",
       "      <td>58</td>\n",
       "      <td>59</td>\n",
       "    </tr>\n",
       "  </tbody>\n",
       "</table>\n",
       "<p>2 rows × 60 columns</p>\n",
       "</div>"
      ],
      "text/plain": [
       "                                      0                              1   \\\n",
       "shop_name  !Якутск Орджоникидзе, 56 фран  !Якутск ТЦ \"Центральный\" фран   \n",
       "shop_id                                0                              1   \n",
       "\n",
       "                         2                               3   \\\n",
       "shop_name  Адыгея ТЦ \"Мега\"  Балашиха ТРК \"Октябрь-Киномир\"   \n",
       "shop_id                   2                               3   \n",
       "\n",
       "                                 4                       5   \\\n",
       "shop_name  Волжский ТЦ \"Волга Молл\"  Вологда ТРЦ \"Мармелад\"   \n",
       "shop_id                           4                       5   \n",
       "\n",
       "                                   6                       7   \\\n",
       "shop_name  Воронеж (Плехановская, 13)  Воронеж ТРЦ \"Максимир\"   \n",
       "shop_id                             6                       7   \n",
       "\n",
       "                                     8                  9   ...  \\\n",
       "shop_name  Воронеж ТРЦ Сити-Парк \"Град\"  Выездная Торговля  ...   \n",
       "shop_id                               8                  9  ...   \n",
       "\n",
       "                           50                         51  \\\n",
       "shop_name  Тюмень ТЦ \"Гудвин\"  Тюмень ТЦ \"Зеленый Берег\"   \n",
       "shop_id                    50                         51   \n",
       "\n",
       "                             52                53               54  \\\n",
       "shop_name  Уфа ТК \"Центральный\"  Уфа ТЦ \"Семья\" 2  Химки ТЦ \"Мега\"   \n",
       "shop_id                      52                53               54   \n",
       "\n",
       "                                 55                    56  \\\n",
       "shop_name  Цифровой склад 1С-Онлайн  Чехов ТРЦ \"Карнавал\"   \n",
       "shop_id                          55                    56   \n",
       "\n",
       "                                57                       58  \\\n",
       "shop_name  Якутск Орджоникидзе, 56  Якутск ТЦ \"Центральный\"   \n",
       "shop_id                         57                       58   \n",
       "\n",
       "                               59  \n",
       "shop_name  Ярославль ТЦ \"Альтаир\"  \n",
       "shop_id                        59  \n",
       "\n",
       "[2 rows x 60 columns]"
      ]
     },
     "execution_count": 31,
     "metadata": {},
     "output_type": "execute_result"
    }
   ],
   "source": [
    "shops.T"
   ]
  },
  {
   "cell_type": "code",
   "execution_count": 32,
   "metadata": {},
   "outputs": [],
   "source": [
    "train.loc[train['shop_id'] == 0, 'shop_id'] = 57\n",
    "test.loc[test['shop_id'] == 0, 'shop_id'] = 57\n",
    "\n",
    "train.loc[train['shop_id'] == 1, 'shop_id'] = 58\n",
    "test.loc[test['shop_id'] == 1, 'shop_id'] = 58\n",
    "\n",
    "train.loc[train['shop_id'] == 10, 'shop_id'] = 11\n",
    "test.loc[test['shop_id'] == 10, 'shop_id'] = 11"
   ]
  },
  {
   "cell_type": "code",
   "execution_count": 33,
   "metadata": {},
   "outputs": [
    {
     "data": {
      "text/plain": [
       "array(['!Якутск', 'Адыгея', 'Балашиха', 'Волжский', 'Вологда', 'Воронеж',\n",
       "       'Выездная', 'Жуковский', 'Интернет-магазин', 'Казань', 'Калуга',\n",
       "       'Коломна', 'Красноярск', 'Курск', 'Москва', 'Мытищи', 'Н.Новгород',\n",
       "       'Новосибирск', 'Омск', 'РостовНаДону', 'СПб', 'Самара', 'Сергиев',\n",
       "       'Сургут', 'Томск', 'Тюмень', 'Уфа', 'Химки', 'Цифровой', 'Чехов',\n",
       "       'Якутск', 'Ярославль'], dtype=object)"
      ]
     },
     "execution_count": 33,
     "metadata": {},
     "output_type": "execute_result"
    }
   ],
   "source": [
    "#Extracting cities\n",
    "cities = shops['shop_name'].str.split(' ').map(lambda row: row[0])\n",
    "cities.unique()"
   ]
  },
  {
   "cell_type": "code",
   "execution_count": 34,
   "metadata": {},
   "outputs": [],
   "source": [
    "shops['city'] = shops['shop_name'].str.split(' ').map(lambda row: row[0])\n",
    "shops.loc[shops.city == '!Якутск', 'city'] = 'Якутск'"
   ]
  },
  {
   "cell_type": "code",
   "execution_count": 35,
   "metadata": {},
   "outputs": [
    {
     "data": {
      "text/plain": [
       "array([29, 29,  0,  1,  2,  3,  4,  4,  4,  5,  6,  6,  7,  8,  8,  9, 10,\n",
       "       11, 11, 12, 13, 13, 13, 13, 13, 13, 13, 13, 13, 13, 13, 13, 13, 14,\n",
       "       15, 15, 16, 16, 17, 18, 18, 18, 19, 19, 20, 20, 21, 22, 23, 24, 24,\n",
       "       24, 25, 25, 26, 27, 28, 29, 29, 30])"
      ]
     },
     "execution_count": 35,
     "metadata": {},
     "output_type": "execute_result"
    }
   ],
   "source": [
    "from sklearn import preprocessing\n",
    "le = preprocessing.LabelEncoder()\n",
    "le.fit_transform(shops['city'])"
   ]
  },
  {
   "cell_type": "code",
   "execution_count": 36,
   "metadata": {},
   "outputs": [
    {
     "data": {
      "text/html": [
       "<div>\n",
       "<style scoped>\n",
       "    .dataframe tbody tr th:only-of-type {\n",
       "        vertical-align: middle;\n",
       "    }\n",
       "\n",
       "    .dataframe tbody tr th {\n",
       "        vertical-align: top;\n",
       "    }\n",
       "\n",
       "    .dataframe thead th {\n",
       "        text-align: right;\n",
       "    }\n",
       "</style>\n",
       "<table border=\"1\" class=\"dataframe\">\n",
       "  <thead>\n",
       "    <tr style=\"text-align: right;\">\n",
       "      <th></th>\n",
       "      <th>shop_id</th>\n",
       "      <th>city_label</th>\n",
       "    </tr>\n",
       "  </thead>\n",
       "  <tbody>\n",
       "    <tr>\n",
       "      <th>0</th>\n",
       "      <td>0</td>\n",
       "      <td>29</td>\n",
       "    </tr>\n",
       "    <tr>\n",
       "      <th>1</th>\n",
       "      <td>1</td>\n",
       "      <td>29</td>\n",
       "    </tr>\n",
       "    <tr>\n",
       "      <th>2</th>\n",
       "      <td>2</td>\n",
       "      <td>0</td>\n",
       "    </tr>\n",
       "    <tr>\n",
       "      <th>3</th>\n",
       "      <td>3</td>\n",
       "      <td>1</td>\n",
       "    </tr>\n",
       "    <tr>\n",
       "      <th>4</th>\n",
       "      <td>4</td>\n",
       "      <td>2</td>\n",
       "    </tr>\n",
       "  </tbody>\n",
       "</table>\n",
       "</div>"
      ],
      "text/plain": [
       "   shop_id  city_label\n",
       "0        0          29\n",
       "1        1          29\n",
       "2        2           0\n",
       "3        3           1\n",
       "4        4           2"
      ]
     },
     "execution_count": 36,
     "metadata": {},
     "output_type": "execute_result"
    }
   ],
   "source": [
    "shops['city_label'] = le.fit_transform(shops['city'])\n",
    "shops.drop(['shop_name', 'city'], axis = 1, inplace = True)\n",
    "shops.head()"
   ]
  },
  {
   "cell_type": "markdown",
   "metadata": {},
   "source": [
    "# Items analysis"
   ]
  },
  {
   "cell_type": "code",
   "execution_count": 37,
   "metadata": {},
   "outputs": [
    {
     "name": "stdout",
     "output_type": "stream",
     "text": [
      "Items in Training Set:  21806\n",
      "Items in Test Set:  5100\n"
     ]
    }
   ],
   "source": [
    "items_train = train['item_id'].nunique()\n",
    "items_test = test['item_id'].nunique()\n",
    "print('Items in Training Set: ', items_train)\n",
    "print('Items in Test Set: ', items_test)"
   ]
  },
  {
   "cell_type": "code",
   "execution_count": 38,
   "metadata": {},
   "outputs": [
    {
     "name": "stdout",
     "output_type": "stream",
     "text": [
      "No, list is not subset of other.\n"
     ]
    }
   ],
   "source": [
    "items_train_list = list(train['item_id'].unique())\n",
    "items_test_list = list(test['item_id'].unique())\n",
    "\n",
    "flag = 0\n",
    "if(set(items_test_list).issubset(set(items_train_list))): \n",
    "    flag = 1\n",
    "      \n",
    "if (flag) : \n",
    "    print (\"Yes, list is subset of other.\") \n",
    "else : \n",
    "    print (\"No, list is not subset of other.\") "
   ]
  },
  {
   "cell_type": "code",
   "execution_count": 39,
   "metadata": {},
   "outputs": [
    {
     "data": {
      "text/plain": [
       "363"
      ]
     },
     "execution_count": 39,
     "metadata": {},
     "output_type": "execute_result"
    }
   ],
   "source": [
    "len(set(items_test_list).difference(items_train_list))"
   ]
  },
  {
   "cell_type": "code",
   "execution_count": 40,
   "metadata": {},
   "outputs": [],
   "source": [
    "categories_in_test = items.loc[items['item_id'].isin(sorted(test['item_id'].unique()))].item_category_id.unique()"
   ]
  },
  {
   "cell_type": "code",
   "execution_count": 41,
   "metadata": {},
   "outputs": [
    {
     "data": {
      "text/html": [
       "<div>\n",
       "<style scoped>\n",
       "    .dataframe tbody tr th:only-of-type {\n",
       "        vertical-align: middle;\n",
       "    }\n",
       "\n",
       "    .dataframe tbody tr th {\n",
       "        vertical-align: top;\n",
       "    }\n",
       "\n",
       "    .dataframe thead th {\n",
       "        text-align: right;\n",
       "    }\n",
       "</style>\n",
       "<table border=\"1\" class=\"dataframe\">\n",
       "  <thead>\n",
       "    <tr style=\"text-align: right;\">\n",
       "      <th></th>\n",
       "      <th>1</th>\n",
       "      <th>4</th>\n",
       "      <th>8</th>\n",
       "      <th>10</th>\n",
       "      <th>13</th>\n",
       "      <th>14</th>\n",
       "      <th>17</th>\n",
       "      <th>18</th>\n",
       "      <th>32</th>\n",
       "      <th>39</th>\n",
       "      <th>...</th>\n",
       "      <th>50</th>\n",
       "      <th>51</th>\n",
       "      <th>52</th>\n",
       "      <th>53</th>\n",
       "      <th>59</th>\n",
       "      <th>66</th>\n",
       "      <th>68</th>\n",
       "      <th>80</th>\n",
       "      <th>81</th>\n",
       "      <th>82</th>\n",
       "    </tr>\n",
       "  </thead>\n",
       "  <tbody>\n",
       "    <tr>\n",
       "      <th>item_category_name</th>\n",
       "      <td>Аксессуары - PS2</td>\n",
       "      <td>Аксессуары - PSP</td>\n",
       "      <td>Билеты (Цифра)</td>\n",
       "      <td>Игровые консоли - PS2</td>\n",
       "      <td>Игровые консоли - PSP</td>\n",
       "      <td>Игровые консоли - PSVita</td>\n",
       "      <td>Игровые консоли - Прочие</td>\n",
       "      <td>Игры - PS2</td>\n",
       "      <td>Карты оплаты (Кино, Музыка, Игры)</td>\n",
       "      <td>Кино - Blu-Ray 4K</td>\n",
       "      <td>...</td>\n",
       "      <td>Книги - Открытки</td>\n",
       "      <td>Книги - Познавательная литература</td>\n",
       "      <td>Книги - Путеводители</td>\n",
       "      <td>Книги - Художественная литература</td>\n",
       "      <td>Музыка - Музыкальное видео</td>\n",
       "      <td>Подарки - Открытки, наклейки</td>\n",
       "      <td>Подарки - Сертификаты, услуги</td>\n",
       "      <td>Служебные - Билеты</td>\n",
       "      <td>Чистые носители (шпиль)</td>\n",
       "      <td>Чистые носители (штучные)</td>\n",
       "    </tr>\n",
       "    <tr>\n",
       "      <th>item_category_id</th>\n",
       "      <td>1</td>\n",
       "      <td>4</td>\n",
       "      <td>8</td>\n",
       "      <td>10</td>\n",
       "      <td>13</td>\n",
       "      <td>14</td>\n",
       "      <td>17</td>\n",
       "      <td>18</td>\n",
       "      <td>32</td>\n",
       "      <td>39</td>\n",
       "      <td>...</td>\n",
       "      <td>50</td>\n",
       "      <td>51</td>\n",
       "      <td>52</td>\n",
       "      <td>53</td>\n",
       "      <td>59</td>\n",
       "      <td>66</td>\n",
       "      <td>68</td>\n",
       "      <td>80</td>\n",
       "      <td>81</td>\n",
       "      <td>82</td>\n",
       "    </tr>\n",
       "  </tbody>\n",
       "</table>\n",
       "<p>2 rows × 22 columns</p>\n",
       "</div>"
      ],
      "text/plain": [
       "                                  1                 4               8   \\\n",
       "item_category_name  Аксессуары - PS2  Аксессуары - PSP  Билеты (Цифра)   \n",
       "item_category_id                   1                 4               8   \n",
       "\n",
       "                                       10                     13  \\\n",
       "item_category_name  Игровые консоли - PS2  Игровые консоли - PSP   \n",
       "item_category_id                       10                     13   \n",
       "\n",
       "                                          14                        17  \\\n",
       "item_category_name  Игровые консоли - PSVita  Игровые консоли - Прочие   \n",
       "item_category_id                          14                        17   \n",
       "\n",
       "                            18                                 32  \\\n",
       "item_category_name  Игры - PS2  Карты оплаты (Кино, Музыка, Игры)   \n",
       "item_category_id            18                                 32   \n",
       "\n",
       "                                   39  ...                50  \\\n",
       "item_category_name  Кино - Blu-Ray 4K  ...  Книги - Открытки   \n",
       "item_category_id                   39  ...                50   \n",
       "\n",
       "                                                   51                    52  \\\n",
       "item_category_name  Книги - Познавательная литература  Книги - Путеводители   \n",
       "item_category_id                                   51                    52   \n",
       "\n",
       "                                                   53  \\\n",
       "item_category_name  Книги - Художественная литература   \n",
       "item_category_id                                   53   \n",
       "\n",
       "                                            59                            66  \\\n",
       "item_category_name  Музыка - Музыкальное видео  Подарки - Открытки, наклейки   \n",
       "item_category_id                            59                            66   \n",
       "\n",
       "                                               68                  80  \\\n",
       "item_category_name  Подарки - Сертификаты, услуги  Служебные - Билеты   \n",
       "item_category_id                               68                  80   \n",
       "\n",
       "                                         81                         82  \n",
       "item_category_name  Чистые носители (шпиль)  Чистые носители (штучные)  \n",
       "item_category_id                         81                         82  \n",
       "\n",
       "[2 rows x 22 columns]"
      ]
     },
     "execution_count": 41,
     "metadata": {},
     "output_type": "execute_result"
    }
   ],
   "source": [
    "categories.loc[~categories['item_category_id'].isin(categories_in_test)].T"
   ]
  },
  {
   "cell_type": "code",
   "execution_count": 42,
   "metadata": {},
   "outputs": [],
   "source": [
    "le = preprocessing.LabelEncoder()\n",
    "\n",
    "main_categories = categories['item_category_name'].str.split('-')\n",
    "categories['main_category_id'] = main_categories.map(lambda row: row[0].strip())\n",
    "categories['main_category_id'] = le.fit_transform(categories['main_category_id'])\n",
    "\n",
    "# Some items don't have sub-categories. For those, we will use the main category as a sub-category\n",
    "categories['sub_category_id'] = main_categories.map(lambda row: row[1].strip() if len(row) > 1 else row[0].strip())\n",
    "categories['sub_category_id'] = le.fit_transform(categories['sub_category_id'])"
   ]
  },
  {
   "cell_type": "code",
   "execution_count": 43,
   "metadata": {},
   "outputs": [
    {
     "data": {
      "text/html": [
       "<div>\n",
       "<style scoped>\n",
       "    .dataframe tbody tr th:only-of-type {\n",
       "        vertical-align: middle;\n",
       "    }\n",
       "\n",
       "    .dataframe tbody tr th {\n",
       "        vertical-align: top;\n",
       "    }\n",
       "\n",
       "    .dataframe thead th {\n",
       "        text-align: right;\n",
       "    }\n",
       "</style>\n",
       "<table border=\"1\" class=\"dataframe\">\n",
       "  <thead>\n",
       "    <tr style=\"text-align: right;\">\n",
       "      <th></th>\n",
       "      <th>item_category_name</th>\n",
       "      <th>item_category_id</th>\n",
       "      <th>main_category_id</th>\n",
       "      <th>sub_category_id</th>\n",
       "    </tr>\n",
       "  </thead>\n",
       "  <tbody>\n",
       "    <tr>\n",
       "      <th>0</th>\n",
       "      <td>PC - Гарнитуры/Наушники</td>\n",
       "      <td>0</td>\n",
       "      <td>0</td>\n",
       "      <td>29</td>\n",
       "    </tr>\n",
       "    <tr>\n",
       "      <th>1</th>\n",
       "      <td>Аксессуары - PS2</td>\n",
       "      <td>1</td>\n",
       "      <td>1</td>\n",
       "      <td>9</td>\n",
       "    </tr>\n",
       "    <tr>\n",
       "      <th>2</th>\n",
       "      <td>Аксессуары - PS3</td>\n",
       "      <td>2</td>\n",
       "      <td>1</td>\n",
       "      <td>10</td>\n",
       "    </tr>\n",
       "    <tr>\n",
       "      <th>3</th>\n",
       "      <td>Аксессуары - PS4</td>\n",
       "      <td>3</td>\n",
       "      <td>1</td>\n",
       "      <td>11</td>\n",
       "    </tr>\n",
       "    <tr>\n",
       "      <th>4</th>\n",
       "      <td>Аксессуары - PSP</td>\n",
       "      <td>4</td>\n",
       "      <td>1</td>\n",
       "      <td>13</td>\n",
       "    </tr>\n",
       "  </tbody>\n",
       "</table>\n",
       "</div>"
      ],
      "text/plain": [
       "        item_category_name  item_category_id  main_category_id  \\\n",
       "0  PC - Гарнитуры/Наушники                 0                 0   \n",
       "1         Аксессуары - PS2                 1                 1   \n",
       "2         Аксессуары - PS3                 2                 1   \n",
       "3         Аксессуары - PS4                 3                 1   \n",
       "4         Аксессуары - PSP                 4                 1   \n",
       "\n",
       "   sub_category_id  \n",
       "0               29  \n",
       "1                9  \n",
       "2               10  \n",
       "3               11  \n",
       "4               13  "
      ]
     },
     "execution_count": 43,
     "metadata": {},
     "output_type": "execute_result"
    }
   ],
   "source": [
    "categories.head()"
   ]
  },
  {
   "cell_type": "markdown",
   "metadata": {},
   "source": [
    "# Generating product of Shop-Item pairs for each month in the training data"
   ]
  },
  {
   "cell_type": "code",
   "execution_count": 44,
   "metadata": {},
   "outputs": [],
   "source": [
    "train['date'] =  pd.to_datetime(train['date'], format='%d.%m.%Y')\n",
    "from itertools import product"
   ]
  },
  {
   "cell_type": "code",
   "execution_count": 45,
   "metadata": {},
   "outputs": [],
   "source": [
    "# Testing generation of cartesian product for the month of January in 2013\n",
    "\n",
    "shops_in_jan = train.loc[train['date_block_num']==0, 'shop_id'].unique()\n",
    "items_in_jan = train.loc[train['date_block_num']==0, 'item_id'].unique()\n",
    "jan = list(product(*[shops_in_jan, items_in_jan, [0]]))"
   ]
  },
  {
   "cell_type": "code",
   "execution_count": 46,
   "metadata": {},
   "outputs": [
    {
     "name": "stdout",
     "output_type": "stream",
     "text": [
      "365175\n"
     ]
    }
   ],
   "source": [
    "print(len(jan))"
   ]
  },
  {
   "cell_type": "code",
   "execution_count": 47,
   "metadata": {},
   "outputs": [],
   "source": [
    "# Testing generation of cartesian product for the month of February in 2013\n",
    "\n",
    "shops_in_feb = train.loc[train['date_block_num']==1, 'shop_id'].unique()\n",
    "items_in_feb = train.loc[train['date_block_num']==1, 'item_id'].unique()\n",
    "feb = list(product(*[shops_in_feb, items_in_feb, [1]]))"
   ]
  },
  {
   "cell_type": "code",
   "execution_count": 48,
   "metadata": {
    "scrolled": true
   },
   "outputs": [
    {
     "name": "stdout",
     "output_type": "stream",
     "text": [
      "375728\n"
     ]
    }
   ],
   "source": [
    "print(len(feb))"
   ]
  },
  {
   "cell_type": "code",
   "execution_count": 49,
   "metadata": {},
   "outputs": [
    {
     "data": {
      "text/plain": [
       "[array([[   59, 22154,     0],\n",
       "        [   59,  2552,     0],\n",
       "        [   59,  2554,     0],\n",
       "        ...,\n",
       "        [   45,   628,     0],\n",
       "        [   45,   631,     0],\n",
       "        [   45,   621,     0]], dtype=int64),\n",
       " array([[   50,  3880,     1],\n",
       "        [   50,  4128,     1],\n",
       "        [   50,  4124,     1],\n",
       "        ...,\n",
       "        [   28, 12885,     1],\n",
       "        [   28, 12791,     1],\n",
       "        [   28, 13433,     1]], dtype=int64)]"
      ]
     },
     "execution_count": 49,
     "metadata": {},
     "output_type": "execute_result"
    }
   ],
   "source": [
    "cartesian_test = []\n",
    "cartesian_test.append(np.array(jan))\n",
    "cartesian_test.append(np.array(feb))\n",
    "cartesian_test"
   ]
  },
  {
   "cell_type": "code",
   "execution_count": 50,
   "metadata": {},
   "outputs": [
    {
     "data": {
      "text/html": [
       "<div>\n",
       "<style scoped>\n",
       "    .dataframe tbody tr th:only-of-type {\n",
       "        vertical-align: middle;\n",
       "    }\n",
       "\n",
       "    .dataframe tbody tr th {\n",
       "        vertical-align: top;\n",
       "    }\n",
       "\n",
       "    .dataframe thead th {\n",
       "        text-align: right;\n",
       "    }\n",
       "</style>\n",
       "<table border=\"1\" class=\"dataframe\">\n",
       "  <thead>\n",
       "    <tr style=\"text-align: right;\">\n",
       "      <th></th>\n",
       "      <th>shop_id</th>\n",
       "      <th>item_id</th>\n",
       "      <th>date_block_num</th>\n",
       "    </tr>\n",
       "  </thead>\n",
       "  <tbody>\n",
       "    <tr>\n",
       "      <th>0</th>\n",
       "      <td>59</td>\n",
       "      <td>22154</td>\n",
       "      <td>0</td>\n",
       "    </tr>\n",
       "    <tr>\n",
       "      <th>1</th>\n",
       "      <td>59</td>\n",
       "      <td>2552</td>\n",
       "      <td>0</td>\n",
       "    </tr>\n",
       "    <tr>\n",
       "      <th>2</th>\n",
       "      <td>59</td>\n",
       "      <td>2554</td>\n",
       "      <td>0</td>\n",
       "    </tr>\n",
       "    <tr>\n",
       "      <th>3</th>\n",
       "      <td>59</td>\n",
       "      <td>2555</td>\n",
       "      <td>0</td>\n",
       "    </tr>\n",
       "    <tr>\n",
       "      <th>4</th>\n",
       "      <td>59</td>\n",
       "      <td>2564</td>\n",
       "      <td>0</td>\n",
       "    </tr>\n",
       "  </tbody>\n",
       "</table>\n",
       "</div>"
      ],
      "text/plain": [
       "   shop_id  item_id  date_block_num\n",
       "0       59    22154               0\n",
       "1       59     2552               0\n",
       "2       59     2554               0\n",
       "3       59     2555               0\n",
       "4       59     2564               0"
      ]
     },
     "execution_count": 50,
     "metadata": {},
     "output_type": "execute_result"
    }
   ],
   "source": [
    "cartesian_test = np.vstack(cartesian_test)\n",
    "cartesian_test_df = pd.DataFrame(cartesian_test, columns = ['shop_id', 'item_id', 'date_block_num'])\n",
    "cartesian_test_df.head()"
   ]
  },
  {
   "cell_type": "code",
   "execution_count": 51,
   "metadata": {},
   "outputs": [
    {
     "data": {
      "text/plain": [
       "(740903, 3)"
      ]
     },
     "execution_count": 51,
     "metadata": {},
     "output_type": "execute_result"
    }
   ],
   "source": [
    "cartesian_test_df.shape"
   ]
  },
  {
   "cell_type": "code",
   "execution_count": 52,
   "metadata": {},
   "outputs": [],
   "source": [
    "from tqdm import tqdm_notebook\n",
    "def downcast_dtypes(df):\n",
    "    '''\n",
    "        Changes column types in the dataframe: \n",
    "                \n",
    "                `float64` type to `float32`\n",
    "                `int64`   type to `int32`\n",
    "    '''\n",
    "    \n",
    "    # Select columns to downcast\n",
    "    float_cols = [c for c in df if df[c].dtype == \"float64\"]\n",
    "    int_cols =   [c for c in df if df[c].dtype == \"int64\"]\n",
    "    \n",
    "    # Downcast\n",
    "    df[float_cols] = df[float_cols].astype(np.float16)\n",
    "    df[int_cols]   = df[int_cols].astype(np.int16)\n",
    "    \n",
    "    return df"
   ]
  },
  {
   "cell_type": "code",
   "execution_count": 53,
   "metadata": {},
   "outputs": [
    {
     "data": {
      "text/plain": [
       "(10913804, 3)"
      ]
     },
     "execution_count": 53,
     "metadata": {},
     "output_type": "execute_result"
    }
   ],
   "source": [
    "months = train['date_block_num'].unique()\n",
    "cartesian = []\n",
    "for month in months:\n",
    "    shops_in_month = train.loc[train['date_block_num']==month, 'shop_id'].unique()\n",
    "    items_in_month = train.loc[train['date_block_num']==month, 'item_id'].unique()\n",
    "    cartesian.append(np.array(list(product(*[shops_in_month, items_in_month, [month]])), dtype='int32'))\n",
    "    cartesian_df = pd.DataFrame(np.vstack(cartesian), columns = ['shop_id', 'item_id', 'date_block_num'], dtype=np.int32)\n",
    "cartesian_df.shape"
   ]
  },
  {
   "cell_type": "markdown",
   "metadata": {},
   "source": [
    "# Aggregating sales to a monthly level and clipping target variable"
   ]
  },
  {
   "cell_type": "code",
   "execution_count": 54,
   "metadata": {},
   "outputs": [
    {
     "data": {
      "text/html": [
       "<div>\n",
       "<style scoped>\n",
       "    .dataframe tbody tr th:only-of-type {\n",
       "        vertical-align: middle;\n",
       "    }\n",
       "\n",
       "    .dataframe tbody tr th {\n",
       "        vertical-align: top;\n",
       "    }\n",
       "\n",
       "    .dataframe thead th {\n",
       "        text-align: right;\n",
       "    }\n",
       "</style>\n",
       "<table border=\"1\" class=\"dataframe\">\n",
       "  <thead>\n",
       "    <tr style=\"text-align: right;\">\n",
       "      <th></th>\n",
       "      <th>shop_id</th>\n",
       "      <th>item_id</th>\n",
       "      <th>date_block_num</th>\n",
       "      <th>item_cnt_month</th>\n",
       "    </tr>\n",
       "  </thead>\n",
       "  <tbody>\n",
       "    <tr>\n",
       "      <th>0</th>\n",
       "      <td>2</td>\n",
       "      <td>27</td>\n",
       "      <td>0</td>\n",
       "      <td>1.0</td>\n",
       "    </tr>\n",
       "    <tr>\n",
       "      <th>1</th>\n",
       "      <td>2</td>\n",
       "      <td>27</td>\n",
       "      <td>17</td>\n",
       "      <td>1.0</td>\n",
       "    </tr>\n",
       "    <tr>\n",
       "      <th>2</th>\n",
       "      <td>2</td>\n",
       "      <td>30</td>\n",
       "      <td>2</td>\n",
       "      <td>1.0</td>\n",
       "    </tr>\n",
       "    <tr>\n",
       "      <th>3</th>\n",
       "      <td>2</td>\n",
       "      <td>30</td>\n",
       "      <td>5</td>\n",
       "      <td>1.0</td>\n",
       "    </tr>\n",
       "    <tr>\n",
       "      <th>4</th>\n",
       "      <td>2</td>\n",
       "      <td>30</td>\n",
       "      <td>15</td>\n",
       "      <td>1.0</td>\n",
       "    </tr>\n",
       "  </tbody>\n",
       "</table>\n",
       "</div>"
      ],
      "text/plain": [
       "   shop_id  item_id  date_block_num  item_cnt_month\n",
       "0        2       27               0             1.0\n",
       "1        2       27              17             1.0\n",
       "2        2       30               2             1.0\n",
       "3        2       30               5             1.0\n",
       "4        2       30              15             1.0"
      ]
     },
     "execution_count": 54,
     "metadata": {},
     "output_type": "execute_result"
    }
   ],
   "source": [
    "x = train.groupby(['shop_id', 'item_id', 'date_block_num'])['item_cnt_day'].sum().rename('item_cnt_month').reset_index()\n",
    "x.head()"
   ]
  },
  {
   "cell_type": "code",
   "execution_count": 55,
   "metadata": {},
   "outputs": [
    {
     "data": {
      "text/plain": [
       "(1609123, 4)"
      ]
     },
     "execution_count": 55,
     "metadata": {},
     "output_type": "execute_result"
    }
   ],
   "source": [
    "x.shape"
   ]
  },
  {
   "cell_type": "code",
   "execution_count": 56,
   "metadata": {},
   "outputs": [],
   "source": [
    "new_train = pd.merge(cartesian_df, x, on=['shop_id', 'item_id', 'date_block_num'], how='left').fillna(0)\n",
    "new_train['item_cnt_month'] = np.clip(new_train['item_cnt_month'], 0, 20)"
   ]
  },
  {
   "cell_type": "code",
   "execution_count": 57,
   "metadata": {},
   "outputs": [],
   "source": [
    "del x\n",
    "del cartesian_df\n",
    "del cartesian\n",
    "del cartesian_test\n",
    "del cartesian_test_df\n",
    "del feb\n",
    "del jan\n",
    "del items_test_list\n",
    "del items_train_list\n",
    "del train"
   ]
  },
  {
   "cell_type": "code",
   "execution_count": 58,
   "metadata": {},
   "outputs": [
    {
     "data": {
      "text/html": [
       "<div>\n",
       "<style scoped>\n",
       "    .dataframe tbody tr th:only-of-type {\n",
       "        vertical-align: middle;\n",
       "    }\n",
       "\n",
       "    .dataframe tbody tr th {\n",
       "        vertical-align: top;\n",
       "    }\n",
       "\n",
       "    .dataframe thead th {\n",
       "        text-align: right;\n",
       "    }\n",
       "</style>\n",
       "<table border=\"1\" class=\"dataframe\">\n",
       "  <thead>\n",
       "    <tr style=\"text-align: right;\">\n",
       "      <th></th>\n",
       "      <th>shop_id</th>\n",
       "      <th>item_id</th>\n",
       "      <th>date_block_num</th>\n",
       "      <th>item_cnt_month</th>\n",
       "    </tr>\n",
       "  </thead>\n",
       "  <tbody>\n",
       "    <tr>\n",
       "      <th>114910</th>\n",
       "      <td>2</td>\n",
       "      <td>19</td>\n",
       "      <td>0</td>\n",
       "      <td>0.0</td>\n",
       "    </tr>\n",
       "    <tr>\n",
       "      <th>117150</th>\n",
       "      <td>2</td>\n",
       "      <td>27</td>\n",
       "      <td>0</td>\n",
       "      <td>1.0</td>\n",
       "    </tr>\n",
       "    <tr>\n",
       "      <th>120623</th>\n",
       "      <td>2</td>\n",
       "      <td>28</td>\n",
       "      <td>0</td>\n",
       "      <td>0.0</td>\n",
       "    </tr>\n",
       "    <tr>\n",
       "      <th>118316</th>\n",
       "      <td>2</td>\n",
       "      <td>29</td>\n",
       "      <td>0</td>\n",
       "      <td>0.0</td>\n",
       "    </tr>\n",
       "    <tr>\n",
       "      <th>114602</th>\n",
       "      <td>2</td>\n",
       "      <td>32</td>\n",
       "      <td>0</td>\n",
       "      <td>0.0</td>\n",
       "    </tr>\n",
       "  </tbody>\n",
       "</table>\n",
       "</div>"
      ],
      "text/plain": [
       "        shop_id  item_id  date_block_num  item_cnt_month\n",
       "114910        2       19               0             0.0\n",
       "117150        2       27               0             1.0\n",
       "120623        2       28               0             0.0\n",
       "118316        2       29               0             0.0\n",
       "114602        2       32               0             0.0"
      ]
     },
     "execution_count": 58,
     "metadata": {},
     "output_type": "execute_result"
    }
   ],
   "source": [
    "new_train.sort_values(['date_block_num','shop_id','item_id'], inplace = True)\n",
    "new_train.head()"
   ]
  },
  {
   "cell_type": "markdown",
   "metadata": {},
   "source": [
    "# Appending Test Set to Training Set"
   ]
  },
  {
   "cell_type": "code",
   "execution_count": 59,
   "metadata": {},
   "outputs": [
    {
     "data": {
      "text/html": [
       "<div>\n",
       "<style scoped>\n",
       "    .dataframe tbody tr th:only-of-type {\n",
       "        vertical-align: middle;\n",
       "    }\n",
       "\n",
       "    .dataframe tbody tr th {\n",
       "        vertical-align: top;\n",
       "    }\n",
       "\n",
       "    .dataframe thead th {\n",
       "        text-align: right;\n",
       "    }\n",
       "</style>\n",
       "<table border=\"1\" class=\"dataframe\">\n",
       "  <thead>\n",
       "    <tr style=\"text-align: right;\">\n",
       "      <th></th>\n",
       "      <th>ID</th>\n",
       "      <th>shop_id</th>\n",
       "      <th>item_id</th>\n",
       "      <th>date_block_num</th>\n",
       "      <th>item_cnt_month</th>\n",
       "    </tr>\n",
       "  </thead>\n",
       "  <tbody>\n",
       "    <tr>\n",
       "      <th>0</th>\n",
       "      <td>0</td>\n",
       "      <td>5</td>\n",
       "      <td>5037</td>\n",
       "      <td>34</td>\n",
       "      <td>0</td>\n",
       "    </tr>\n",
       "    <tr>\n",
       "      <th>1</th>\n",
       "      <td>1</td>\n",
       "      <td>5</td>\n",
       "      <td>5320</td>\n",
       "      <td>34</td>\n",
       "      <td>0</td>\n",
       "    </tr>\n",
       "    <tr>\n",
       "      <th>2</th>\n",
       "      <td>2</td>\n",
       "      <td>5</td>\n",
       "      <td>5233</td>\n",
       "      <td>34</td>\n",
       "      <td>0</td>\n",
       "    </tr>\n",
       "    <tr>\n",
       "      <th>3</th>\n",
       "      <td>3</td>\n",
       "      <td>5</td>\n",
       "      <td>5232</td>\n",
       "      <td>34</td>\n",
       "      <td>0</td>\n",
       "    </tr>\n",
       "    <tr>\n",
       "      <th>4</th>\n",
       "      <td>4</td>\n",
       "      <td>5</td>\n",
       "      <td>5268</td>\n",
       "      <td>34</td>\n",
       "      <td>0</td>\n",
       "    </tr>\n",
       "  </tbody>\n",
       "</table>\n",
       "</div>"
      ],
      "text/plain": [
       "   ID  shop_id  item_id  date_block_num  item_cnt_month\n",
       "0   0        5     5037              34               0\n",
       "1   1        5     5320              34               0\n",
       "2   2        5     5233              34               0\n",
       "3   3        5     5232              34               0\n",
       "4   4        5     5268              34               0"
      ]
     },
     "execution_count": 59,
     "metadata": {},
     "output_type": "execute_result"
    }
   ],
   "source": [
    "test.insert(loc=3, column='date_block_num', value=34)\n",
    "test['item_cnt_month'] = 0\n",
    "test.head()"
   ]
  },
  {
   "cell_type": "code",
   "execution_count": 60,
   "metadata": {},
   "outputs": [
    {
     "data": {
      "text/html": [
       "<div>\n",
       "<style scoped>\n",
       "    .dataframe tbody tr th:only-of-type {\n",
       "        vertical-align: middle;\n",
       "    }\n",
       "\n",
       "    .dataframe tbody tr th {\n",
       "        vertical-align: top;\n",
       "    }\n",
       "\n",
       "    .dataframe thead th {\n",
       "        text-align: right;\n",
       "    }\n",
       "</style>\n",
       "<table border=\"1\" class=\"dataframe\">\n",
       "  <thead>\n",
       "    <tr style=\"text-align: right;\">\n",
       "      <th></th>\n",
       "      <th>shop_id</th>\n",
       "      <th>item_id</th>\n",
       "      <th>date_block_num</th>\n",
       "      <th>item_cnt_month</th>\n",
       "      <th>city_label</th>\n",
       "    </tr>\n",
       "  </thead>\n",
       "  <tbody>\n",
       "    <tr>\n",
       "      <th>0</th>\n",
       "      <td>2</td>\n",
       "      <td>19</td>\n",
       "      <td>0</td>\n",
       "      <td>0.0</td>\n",
       "      <td>0</td>\n",
       "    </tr>\n",
       "    <tr>\n",
       "      <th>1</th>\n",
       "      <td>2</td>\n",
       "      <td>27</td>\n",
       "      <td>0</td>\n",
       "      <td>1.0</td>\n",
       "      <td>0</td>\n",
       "    </tr>\n",
       "    <tr>\n",
       "      <th>2</th>\n",
       "      <td>2</td>\n",
       "      <td>28</td>\n",
       "      <td>0</td>\n",
       "      <td>0.0</td>\n",
       "      <td>0</td>\n",
       "    </tr>\n",
       "    <tr>\n",
       "      <th>3</th>\n",
       "      <td>2</td>\n",
       "      <td>29</td>\n",
       "      <td>0</td>\n",
       "      <td>0.0</td>\n",
       "      <td>0</td>\n",
       "    </tr>\n",
       "    <tr>\n",
       "      <th>4</th>\n",
       "      <td>2</td>\n",
       "      <td>32</td>\n",
       "      <td>0</td>\n",
       "      <td>0.0</td>\n",
       "      <td>0</td>\n",
       "    </tr>\n",
       "  </tbody>\n",
       "</table>\n",
       "</div>"
      ],
      "text/plain": [
       "   shop_id  item_id  date_block_num  item_cnt_month  city_label\n",
       "0        2       19               0             0.0           0\n",
       "1        2       27               0             1.0           0\n",
       "2        2       28               0             0.0           0\n",
       "3        2       29               0             0.0           0\n",
       "4        2       32               0             0.0           0"
      ]
     },
     "execution_count": 60,
     "metadata": {},
     "output_type": "execute_result"
    }
   ],
   "source": [
    "new_train = new_train.append(test.drop('ID', axis = 1))\n",
    "new_train = pd.merge(new_train, shops, on=['shop_id'], how='left')\n",
    "new_train.head()"
   ]
  },
  {
   "cell_type": "code",
   "execution_count": 61,
   "metadata": {
    "scrolled": true
   },
   "outputs": [
    {
     "data": {
      "text/html": [
       "<div>\n",
       "<style scoped>\n",
       "    .dataframe tbody tr th:only-of-type {\n",
       "        vertical-align: middle;\n",
       "    }\n",
       "\n",
       "    .dataframe tbody tr th {\n",
       "        vertical-align: top;\n",
       "    }\n",
       "\n",
       "    .dataframe thead th {\n",
       "        text-align: right;\n",
       "    }\n",
       "</style>\n",
       "<table border=\"1\" class=\"dataframe\">\n",
       "  <thead>\n",
       "    <tr style=\"text-align: right;\">\n",
       "      <th></th>\n",
       "      <th>shop_id</th>\n",
       "      <th>item_id</th>\n",
       "      <th>date_block_num</th>\n",
       "      <th>item_cnt_month</th>\n",
       "      <th>city_label</th>\n",
       "      <th>item_category_id</th>\n",
       "    </tr>\n",
       "  </thead>\n",
       "  <tbody>\n",
       "    <tr>\n",
       "      <th>0</th>\n",
       "      <td>2</td>\n",
       "      <td>19</td>\n",
       "      <td>0</td>\n",
       "      <td>0.0</td>\n",
       "      <td>0</td>\n",
       "      <td>40</td>\n",
       "    </tr>\n",
       "    <tr>\n",
       "      <th>1</th>\n",
       "      <td>2</td>\n",
       "      <td>27</td>\n",
       "      <td>0</td>\n",
       "      <td>1.0</td>\n",
       "      <td>0</td>\n",
       "      <td>19</td>\n",
       "    </tr>\n",
       "    <tr>\n",
       "      <th>2</th>\n",
       "      <td>2</td>\n",
       "      <td>28</td>\n",
       "      <td>0</td>\n",
       "      <td>0.0</td>\n",
       "      <td>0</td>\n",
       "      <td>30</td>\n",
       "    </tr>\n",
       "    <tr>\n",
       "      <th>3</th>\n",
       "      <td>2</td>\n",
       "      <td>29</td>\n",
       "      <td>0</td>\n",
       "      <td>0.0</td>\n",
       "      <td>0</td>\n",
       "      <td>23</td>\n",
       "    </tr>\n",
       "    <tr>\n",
       "      <th>4</th>\n",
       "      <td>2</td>\n",
       "      <td>32</td>\n",
       "      <td>0</td>\n",
       "      <td>0.0</td>\n",
       "      <td>0</td>\n",
       "      <td>40</td>\n",
       "    </tr>\n",
       "  </tbody>\n",
       "</table>\n",
       "</div>"
      ],
      "text/plain": [
       "   shop_id  item_id  date_block_num  item_cnt_month  city_label  \\\n",
       "0        2       19               0             0.0           0   \n",
       "1        2       27               0             1.0           0   \n",
       "2        2       28               0             0.0           0   \n",
       "3        2       29               0             0.0           0   \n",
       "4        2       32               0             0.0           0   \n",
       "\n",
       "   item_category_id  \n",
       "0                40  \n",
       "1                19  \n",
       "2                30  \n",
       "3                23  \n",
       "4                40  "
      ]
     },
     "execution_count": 61,
     "metadata": {},
     "output_type": "execute_result"
    }
   ],
   "source": [
    "new_train = pd.merge(new_train, items.drop('item_name', axis = 1), on=['item_id'], how='left')\n",
    "new_train.head()"
   ]
  },
  {
   "cell_type": "code",
   "execution_count": 62,
   "metadata": {},
   "outputs": [
    {
     "data": {
      "text/html": [
       "<div>\n",
       "<style scoped>\n",
       "    .dataframe tbody tr th:only-of-type {\n",
       "        vertical-align: middle;\n",
       "    }\n",
       "\n",
       "    .dataframe tbody tr th {\n",
       "        vertical-align: top;\n",
       "    }\n",
       "\n",
       "    .dataframe thead th {\n",
       "        text-align: right;\n",
       "    }\n",
       "</style>\n",
       "<table border=\"1\" class=\"dataframe\">\n",
       "  <thead>\n",
       "    <tr style=\"text-align: right;\">\n",
       "      <th></th>\n",
       "      <th>shop_id</th>\n",
       "      <th>item_id</th>\n",
       "      <th>date_block_num</th>\n",
       "      <th>item_cnt_month</th>\n",
       "      <th>city_label</th>\n",
       "      <th>item_category_id</th>\n",
       "      <th>main_category_id</th>\n",
       "      <th>sub_category_id</th>\n",
       "    </tr>\n",
       "  </thead>\n",
       "  <tbody>\n",
       "    <tr>\n",
       "      <th>0</th>\n",
       "      <td>2</td>\n",
       "      <td>19</td>\n",
       "      <td>0</td>\n",
       "      <td>0.0</td>\n",
       "      <td>0</td>\n",
       "      <td>40</td>\n",
       "      <td>11</td>\n",
       "      <td>4</td>\n",
       "    </tr>\n",
       "    <tr>\n",
       "      <th>1</th>\n",
       "      <td>2</td>\n",
       "      <td>27</td>\n",
       "      <td>0</td>\n",
       "      <td>1.0</td>\n",
       "      <td>0</td>\n",
       "      <td>19</td>\n",
       "      <td>5</td>\n",
       "      <td>10</td>\n",
       "    </tr>\n",
       "    <tr>\n",
       "      <th>2</th>\n",
       "      <td>2</td>\n",
       "      <td>28</td>\n",
       "      <td>0</td>\n",
       "      <td>0.0</td>\n",
       "      <td>0</td>\n",
       "      <td>30</td>\n",
       "      <td>8</td>\n",
       "      <td>55</td>\n",
       "    </tr>\n",
       "    <tr>\n",
       "      <th>3</th>\n",
       "      <td>2</td>\n",
       "      <td>29</td>\n",
       "      <td>0</td>\n",
       "      <td>0.0</td>\n",
       "      <td>0</td>\n",
       "      <td>23</td>\n",
       "      <td>5</td>\n",
       "      <td>16</td>\n",
       "    </tr>\n",
       "    <tr>\n",
       "      <th>4</th>\n",
       "      <td>2</td>\n",
       "      <td>32</td>\n",
       "      <td>0</td>\n",
       "      <td>0.0</td>\n",
       "      <td>0</td>\n",
       "      <td>40</td>\n",
       "      <td>11</td>\n",
       "      <td>4</td>\n",
       "    </tr>\n",
       "  </tbody>\n",
       "</table>\n",
       "</div>"
      ],
      "text/plain": [
       "   shop_id  item_id  date_block_num  item_cnt_month  city_label  \\\n",
       "0        2       19               0             0.0           0   \n",
       "1        2       27               0             1.0           0   \n",
       "2        2       28               0             0.0           0   \n",
       "3        2       29               0             0.0           0   \n",
       "4        2       32               0             0.0           0   \n",
       "\n",
       "   item_category_id  main_category_id  sub_category_id  \n",
       "0                40                11                4  \n",
       "1                19                 5               10  \n",
       "2                30                 8               55  \n",
       "3                23                 5               16  \n",
       "4                40                11                4  "
      ]
     },
     "execution_count": 62,
     "metadata": {},
     "output_type": "execute_result"
    }
   ],
   "source": [
    "new_train = pd.merge(new_train, categories.drop('item_category_name', axis = 1), on=['item_category_id'], how='left')\n",
    "new_train.head()"
   ]
  },
  {
   "cell_type": "markdown",
   "metadata": {},
   "source": [
    "# Generating Lag Features and Mean-Encodings"
   ]
  },
  {
   "cell_type": "code",
   "execution_count": 63,
   "metadata": {},
   "outputs": [],
   "source": [
    "def generate_lag(train, months, lag_column):\n",
    "    for month in months:\n",
    "        # Speed up by grabbing only the useful bits\n",
    "        train_shift = train[['date_block_num', 'shop_id', 'item_id', lag_column]].copy()\n",
    "        train_shift.columns = ['date_block_num', 'shop_id', 'item_id', lag_column+'_lag_'+ str(month)]\n",
    "        train_shift['date_block_num'] += month\n",
    "        train = pd.merge(train, train_shift, on=['date_block_num', 'shop_id', 'item_id'], how='left')\n",
    "    return train"
   ]
  },
  {
   "cell_type": "code",
   "execution_count": 64,
   "metadata": {},
   "outputs": [],
   "source": [
    "del items\n",
    "del categories\n",
    "del shops\n",
    "del test"
   ]
  },
  {
   "cell_type": "code",
   "execution_count": 65,
   "metadata": {},
   "outputs": [
    {
     "data": {
      "text/plain": [
       "77"
      ]
     },
     "execution_count": 65,
     "metadata": {},
     "output_type": "execute_result"
    }
   ],
   "source": [
    "new_train = downcast_dtypes(new_train)\n",
    "import gc\n",
    "gc.collect()"
   ]
  },
  {
   "cell_type": "code",
   "execution_count": 66,
   "metadata": {
    "scrolled": true
   },
   "outputs": [
    {
     "name": "stdout",
     "output_type": "stream",
     "text": [
      "Wall time: 1min 40s\n"
     ]
    }
   ],
   "source": [
    "%%time\n",
    "new_train = generate_lag(new_train, [1,2,3,4,5,6,12], 'item_cnt_month')"
   ]
  },
  {
   "cell_type": "code",
   "execution_count": 67,
   "metadata": {
    "scrolled": true
   },
   "outputs": [
    {
     "name": "stdout",
     "output_type": "stream",
     "text": [
      "Wall time: 1min 21s\n"
     ]
    }
   ],
   "source": [
    "%%time\n",
    "group = new_train.groupby(['date_block_num', 'item_id'])['item_cnt_month'].mean().rename('item_month_mean').reset_index()\n",
    "new_train = pd.merge(new_train, group, on=['date_block_num', 'item_id'], how='left')\n",
    "new_train = generate_lag(new_train, [1,2,3,6,12], 'item_month_mean')\n",
    "new_train.drop(['item_month_mean'], axis=1, inplace=True)"
   ]
  },
  {
   "cell_type": "code",
   "execution_count": 68,
   "metadata": {},
   "outputs": [
    {
     "name": "stdout",
     "output_type": "stream",
     "text": [
      "Wall time: 1min 16s\n"
     ]
    }
   ],
   "source": [
    "%%time\n",
    "group = new_train.groupby(['date_block_num', 'shop_id'])['item_cnt_month'].mean().rename('shop_month_mean').reset_index()\n",
    "new_train = pd.merge(new_train, group, on=['date_block_num', 'shop_id'], how='left')\n",
    "new_train = generate_lag(new_train, [1,2,3,6,12], 'shop_month_mean')\n",
    "new_train.drop(['shop_month_mean'], axis=1, inplace=True)"
   ]
  },
  {
   "cell_type": "code",
   "execution_count": 69,
   "metadata": {},
   "outputs": [
    {
     "data": {
      "text/html": [
       "<div>\n",
       "<style scoped>\n",
       "    .dataframe tbody tr th:only-of-type {\n",
       "        vertical-align: middle;\n",
       "    }\n",
       "\n",
       "    .dataframe tbody tr th {\n",
       "        vertical-align: top;\n",
       "    }\n",
       "\n",
       "    .dataframe thead th {\n",
       "        text-align: right;\n",
       "    }\n",
       "</style>\n",
       "<table border=\"1\" class=\"dataframe\">\n",
       "  <thead>\n",
       "    <tr style=\"text-align: right;\">\n",
       "      <th></th>\n",
       "      <th>shop_id</th>\n",
       "      <th>item_id</th>\n",
       "      <th>date_block_num</th>\n",
       "      <th>item_cnt_month</th>\n",
       "      <th>city_label</th>\n",
       "      <th>item_category_id</th>\n",
       "      <th>main_category_id</th>\n",
       "      <th>sub_category_id</th>\n",
       "      <th>item_cnt_month_lag_1</th>\n",
       "      <th>item_cnt_month_lag_2</th>\n",
       "      <th>...</th>\n",
       "      <th>item_month_mean_lag_1</th>\n",
       "      <th>item_month_mean_lag_2</th>\n",
       "      <th>item_month_mean_lag_3</th>\n",
       "      <th>item_month_mean_lag_6</th>\n",
       "      <th>item_month_mean_lag_12</th>\n",
       "      <th>shop_month_mean_lag_1</th>\n",
       "      <th>shop_month_mean_lag_2</th>\n",
       "      <th>shop_month_mean_lag_3</th>\n",
       "      <th>shop_month_mean_lag_6</th>\n",
       "      <th>shop_month_mean_lag_12</th>\n",
       "    </tr>\n",
       "  </thead>\n",
       "  <tbody>\n",
       "    <tr>\n",
       "      <th>11127999</th>\n",
       "      <td>45</td>\n",
       "      <td>18454</td>\n",
       "      <td>34</td>\n",
       "      <td>0.0</td>\n",
       "      <td>20</td>\n",
       "      <td>55</td>\n",
       "      <td>13</td>\n",
       "      <td>2</td>\n",
       "      <td>1.0</td>\n",
       "      <td>0.0</td>\n",
       "      <td>...</td>\n",
       "      <td>0.045441</td>\n",
       "      <td>0.023254</td>\n",
       "      <td>0.071411</td>\n",
       "      <td>0.590820</td>\n",
       "      <td>NaN</td>\n",
       "      <td>0.126709</td>\n",
       "      <td>0.128784</td>\n",
       "      <td>0.139038</td>\n",
       "      <td>0.137573</td>\n",
       "      <td>NaN</td>\n",
       "    </tr>\n",
       "    <tr>\n",
       "      <th>11128000</th>\n",
       "      <td>45</td>\n",
       "      <td>16188</td>\n",
       "      <td>34</td>\n",
       "      <td>0.0</td>\n",
       "      <td>20</td>\n",
       "      <td>64</td>\n",
       "      <td>14</td>\n",
       "      <td>42</td>\n",
       "      <td>0.0</td>\n",
       "      <td>0.0</td>\n",
       "      <td>...</td>\n",
       "      <td>0.022720</td>\n",
       "      <td>0.069763</td>\n",
       "      <td>NaN</td>\n",
       "      <td>NaN</td>\n",
       "      <td>NaN</td>\n",
       "      <td>0.126709</td>\n",
       "      <td>0.128784</td>\n",
       "      <td>NaN</td>\n",
       "      <td>NaN</td>\n",
       "      <td>NaN</td>\n",
       "    </tr>\n",
       "    <tr>\n",
       "      <th>11128001</th>\n",
       "      <td>45</td>\n",
       "      <td>15757</td>\n",
       "      <td>34</td>\n",
       "      <td>0.0</td>\n",
       "      <td>20</td>\n",
       "      <td>55</td>\n",
       "      <td>13</td>\n",
       "      <td>2</td>\n",
       "      <td>0.0</td>\n",
       "      <td>0.0</td>\n",
       "      <td>...</td>\n",
       "      <td>0.113647</td>\n",
       "      <td>0.069763</td>\n",
       "      <td>0.095215</td>\n",
       "      <td>0.250000</td>\n",
       "      <td>0.180054</td>\n",
       "      <td>0.126709</td>\n",
       "      <td>0.128784</td>\n",
       "      <td>0.139038</td>\n",
       "      <td>0.137573</td>\n",
       "      <td>0.181274</td>\n",
       "    </tr>\n",
       "    <tr>\n",
       "      <th>11128002</th>\n",
       "      <td>45</td>\n",
       "      <td>19648</td>\n",
       "      <td>34</td>\n",
       "      <td>0.0</td>\n",
       "      <td>20</td>\n",
       "      <td>40</td>\n",
       "      <td>11</td>\n",
       "      <td>4</td>\n",
       "      <td>0.0</td>\n",
       "      <td>0.0</td>\n",
       "      <td>...</td>\n",
       "      <td>0.045441</td>\n",
       "      <td>0.069763</td>\n",
       "      <td>0.166626</td>\n",
       "      <td>0.090881</td>\n",
       "      <td>NaN</td>\n",
       "      <td>0.126709</td>\n",
       "      <td>0.128784</td>\n",
       "      <td>0.139038</td>\n",
       "      <td>0.137573</td>\n",
       "      <td>NaN</td>\n",
       "    </tr>\n",
       "    <tr>\n",
       "      <th>11128003</th>\n",
       "      <td>45</td>\n",
       "      <td>969</td>\n",
       "      <td>34</td>\n",
       "      <td>0.0</td>\n",
       "      <td>20</td>\n",
       "      <td>37</td>\n",
       "      <td>11</td>\n",
       "      <td>1</td>\n",
       "      <td>0.0</td>\n",
       "      <td>0.0</td>\n",
       "      <td>...</td>\n",
       "      <td>0.068176</td>\n",
       "      <td>0.116272</td>\n",
       "      <td>0.023804</td>\n",
       "      <td>0.068176</td>\n",
       "      <td>0.119995</td>\n",
       "      <td>0.126709</td>\n",
       "      <td>0.128784</td>\n",
       "      <td>0.139038</td>\n",
       "      <td>0.137573</td>\n",
       "      <td>0.181274</td>\n",
       "    </tr>\n",
       "  </tbody>\n",
       "</table>\n",
       "<p>5 rows × 25 columns</p>\n",
       "</div>"
      ],
      "text/plain": [
       "          shop_id  item_id  date_block_num  item_cnt_month  city_label  \\\n",
       "11127999       45    18454              34             0.0          20   \n",
       "11128000       45    16188              34             0.0          20   \n",
       "11128001       45    15757              34             0.0          20   \n",
       "11128002       45    19648              34             0.0          20   \n",
       "11128003       45      969              34             0.0          20   \n",
       "\n",
       "          item_category_id  main_category_id  sub_category_id  \\\n",
       "11127999                55                13                2   \n",
       "11128000                64                14               42   \n",
       "11128001                55                13                2   \n",
       "11128002                40                11                4   \n",
       "11128003                37                11                1   \n",
       "\n",
       "          item_cnt_month_lag_1  item_cnt_month_lag_2  ...  \\\n",
       "11127999                   1.0                   0.0  ...   \n",
       "11128000                   0.0                   0.0  ...   \n",
       "11128001                   0.0                   0.0  ...   \n",
       "11128002                   0.0                   0.0  ...   \n",
       "11128003                   0.0                   0.0  ...   \n",
       "\n",
       "          item_month_mean_lag_1  item_month_mean_lag_2  item_month_mean_lag_3  \\\n",
       "11127999               0.045441               0.023254               0.071411   \n",
       "11128000               0.022720               0.069763                    NaN   \n",
       "11128001               0.113647               0.069763               0.095215   \n",
       "11128002               0.045441               0.069763               0.166626   \n",
       "11128003               0.068176               0.116272               0.023804   \n",
       "\n",
       "          item_month_mean_lag_6  item_month_mean_lag_12  \\\n",
       "11127999               0.590820                     NaN   \n",
       "11128000                    NaN                     NaN   \n",
       "11128001               0.250000                0.180054   \n",
       "11128002               0.090881                     NaN   \n",
       "11128003               0.068176                0.119995   \n",
       "\n",
       "          shop_month_mean_lag_1  shop_month_mean_lag_2  shop_month_mean_lag_3  \\\n",
       "11127999               0.126709               0.128784               0.139038   \n",
       "11128000               0.126709               0.128784                    NaN   \n",
       "11128001               0.126709               0.128784               0.139038   \n",
       "11128002               0.126709               0.128784               0.139038   \n",
       "11128003               0.126709               0.128784               0.139038   \n",
       "\n",
       "          shop_month_mean_lag_6  shop_month_mean_lag_12  \n",
       "11127999               0.137573                     NaN  \n",
       "11128000                    NaN                     NaN  \n",
       "11128001               0.137573                0.181274  \n",
       "11128002               0.137573                     NaN  \n",
       "11128003               0.137573                0.181274  \n",
       "\n",
       "[5 rows x 25 columns]"
      ]
     },
     "execution_count": 69,
     "metadata": {},
     "output_type": "execute_result"
    }
   ],
   "source": [
    "new_train.tail()"
   ]
  },
  {
   "cell_type": "code",
   "execution_count": 70,
   "metadata": {},
   "outputs": [],
   "source": [
    "new_train['month'] = new_train['date_block_num'] % 12"
   ]
  },
  {
   "cell_type": "code",
   "execution_count": 71,
   "metadata": {},
   "outputs": [],
   "source": [
    "holiday_dict = {\n",
    "    0: 6,\n",
    "    1: 3,\n",
    "    2: 2,\n",
    "    3: 8,\n",
    "    4: 3,\n",
    "    5: 3,\n",
    "    6: 2,\n",
    "    7: 8,\n",
    "    8: 4,\n",
    "    9: 8,\n",
    "    10: 5,\n",
    "    11: 4,\n",
    "}"
   ]
  },
  {
   "cell_type": "code",
   "execution_count": 72,
   "metadata": {},
   "outputs": [],
   "source": [
    "new_train['holidays_in_month'] = new_train['month'].map(holiday_dict)"
   ]
  },
  {
   "cell_type": "code",
   "execution_count": 73,
   "metadata": {},
   "outputs": [],
   "source": [
    "moex = {\n",
    "    12: 659, 13: 640, 14: 1231,\n",
    "    15: 881, 16: 764, 17: 663,\n",
    "    18: 743, 19: 627, 20: 692,\n",
    "    21: 736, 22: 680, 23: 1092,\n",
    "    24: 657, 25: 863, 26: 720,\n",
    "    27: 819, 28: 574, 29: 568,\n",
    "    30: 633, 31: 658, 32: 611,\n",
    "    33: 770, 34: 723,\n",
    "}"
   ]
  },
  {
   "cell_type": "code",
   "execution_count": 74,
   "metadata": {},
   "outputs": [],
   "source": [
    "new_train['moex_value'] = new_train.date_block_num.map(moex)\n",
    "new_train = downcast_dtypes(new_train)"
   ]
  },
  {
   "cell_type": "markdown",
   "metadata": {},
   "source": [
    "# Training"
   ]
  },
  {
   "cell_type": "code",
   "execution_count": 75,
   "metadata": {},
   "outputs": [
    {
     "name": "stdout",
     "output_type": "stream",
     "text": [
      "Requirement already satisfied: xgboost in c:\\users\\sinam\\anaconda3\\lib\\site-packages (1.2.0)\n",
      "Requirement already satisfied: numpy in c:\\users\\sinam\\anaconda3\\lib\\site-packages (from xgboost) (1.18.5)\n",
      "Requirement already satisfied: scipy in c:\\users\\sinam\\anaconda3\\lib\\site-packages (from xgboost) (1.5.0)\n",
      "Note: you may need to restart the kernel to use updated packages.\n"
     ]
    }
   ],
   "source": [
    "pip install xgboost"
   ]
  },
  {
   "cell_type": "code",
   "execution_count": 76,
   "metadata": {},
   "outputs": [
    {
     "name": "stdout",
     "output_type": "stream",
     "text": [
      "Collecting package metadata (current_repodata.json): ...working... done\n",
      "Solving environment: ...working... failed with initial frozen solve. Retrying with flexible solve.\n",
      "Solving environment: ...working... failed with repodata from current_repodata.json, will retry with next repodata source.\n",
      "Collecting package metadata (repodata.json): ...working... done\n",
      "Solving environment: ...working... failed with initial frozen solve. Retrying with flexible solve.\n",
      "Solving environment: ...working... \n",
      "Found conflicts! Looking for incompatible packages.\n",
      "This can take several minutes.  Press CTRL-C to abort.\n",
      "failed\n",
      "\n",
      "Note: you may need to restart the kernel to use updated packages.\n"
     ]
    },
    {
     "name": "stderr",
     "output_type": "stream",
     "text": [
      "\n",
      "Building graph of deps:   0%|          | 0/3 [00:00<?, ?it/s]\n",
      "Examining @/win-64::__cuda==11.0=0:   0%|          | 0/3 [00:00<?, ?it/s]\n",
      "Examining python=3.8:  33%|###3      | 1/3 [00:00<00:00, 1004.86it/s]    \n",
      "Examining py-xgboost:  67%|######6   | 2/3 [00:00<00:00, 21.75it/s]  \n",
      "                                                                   \n",
      "\n",
      "Determining conflicts:   0%|          | 0/3 [00:00<?, ?it/s]\n",
      "Examining conflict for __cuda:   0%|          | 0/3 [00:00<?, ?it/s]\n",
      "Examining conflict for python py-xgboost:  33%|###3      | 1/3 [00:00<?, ?it/s]\n",
      "                                                                               \n",
      "\n",
      "UnsatisfiableError: The following specifications were found\n",
      "to be incompatible with the existing python installation in your environment:\n",
      "\n",
      "Specifications:\n",
      "\n",
      "  - py-xgboost -> python[version='>=2.7,<2.8.0a0|>=3.6,<3.7.0a0|>=3.7,<3.8.0a0|>=3.5,<3.6.0a0']\n",
      "\n",
      "Your python: python=3.8\n",
      "\n",
      "If python is on the left-most side of the chain, that's the version you've asked for.\n",
      "When python appears to the right, that indicates that the thing on the left is somehow\n",
      "not available for the python version you are constrained to. Note that conda will not\n",
      "change your python version to a different minor version unless you explicitly specify\n",
      "that.\n",
      "\n",
      "The following specifications were found to be incompatible with your CUDA driver:\n",
      "\n",
      "  - feature:/win-64::__cuda==11.0=0\n",
      "\n",
      "Your installed CUDA driver is: 11.0\n",
      "\n",
      "\n"
     ]
    }
   ],
   "source": [
    "conda install py-xgboost"
   ]
  },
  {
   "cell_type": "code",
   "execution_count": 77,
   "metadata": {},
   "outputs": [
    {
     "data": {
      "text/plain": [
       "60"
      ]
     },
     "execution_count": 77,
     "metadata": {},
     "output_type": "execute_result"
    }
   ],
   "source": [
    "new_train = new_train[new_train.date_block_num > 11]\n",
    "import gc\n",
    "gc.collect()"
   ]
  },
  {
   "cell_type": "code",
   "execution_count": 78,
   "metadata": {},
   "outputs": [],
   "source": [
    "def fill_na(df):\n",
    "    for col in df.columns:\n",
    "        if ('_lag_' in col) & (df[col].isnull().any()):\n",
    "            df[col].fillna(0, inplace=True)         \n",
    "    return df\n",
    "\n",
    "new_train = fill_na(new_train)"
   ]
  },
  {
   "cell_type": "code",
   "execution_count": 79,
   "metadata": {},
   "outputs": [],
   "source": [
    " import xgboost as xgb"
   ]
  },
  {
   "cell_type": "code",
   "execution_count": 87,
   "metadata": {},
   "outputs": [],
   "source": [
    "def xgtrain():\n",
    "    regressor = xgb.XGBRegressor(n_estimators = 100,\n",
    "                                 learning_rate = 0.01,\n",
    "                                 max_depth = 10,\n",
    "                                 subsample = 0.5,\n",
    "                                 colsample_bytree = 0.5)\n",
    "    \n",
    "    regressor_ = regressor.fit(new_train[new_train.date_block_num < 33].drop(['item_cnt_month'], axis=1).values, \n",
    "                               new_train[new_train.date_block_num < 33]['item_cnt_month'].values, \n",
    "                               eval_metric = 'rmse', \n",
    "                               eval_set = [(new_train[new_train.date_block_num < 33].drop(['item_cnt_month'], axis=1).values, \n",
    "                                            new_train[new_train.date_block_num < 33]['item_cnt_month'].values), \n",
    "                                           (new_train[new_train.date_block_num == 33].drop(['item_cnt_month'], axis=1).values, \n",
    "                                            new_train[new_train.date_block_num == 33]['item_cnt_month'].values)\n",
    "                                          ], \n",
    "                               verbose=True,\n",
    "                               early_stopping_rounds = 10,\n",
    "                              )\n",
    "    return regressor"
   ]
  },
  {
   "cell_type": "code",
   "execution_count": 88,
   "metadata": {},
   "outputs": [
    {
     "name": "stdout",
     "output_type": "stream",
     "text": [
      "[13:52:01] WARNING: C:\\Users\\Administrator\\workspace\\xgboost-win64_release_1.2.0\\src\\gbm\\gbtree.cc:139: Tree method is automatically selected to be 'approx' for faster speed. To use old behavior (exact greedy algorithm on single machine), set tree_method to 'exact'.\n",
      "[0]\tvalidation_0-rmse:1.20389\tvalidation_1-rmse:1.15805\n",
      "Multiple eval metrics have been passed: 'validation_1-rmse' will be used for early stopping.\n",
      "\n",
      "Will train until validation_1-rmse hasn't improved in 10 rounds.\n",
      "[1]\tvalidation_0-rmse:1.19993\tvalidation_1-rmse:1.15421\n",
      "[2]\tvalidation_0-rmse:1.19614\tvalidation_1-rmse:1.15034\n",
      "[3]\tvalidation_0-rmse:1.19155\tvalidation_1-rmse:1.14660\n",
      "[4]\tvalidation_0-rmse:1.18788\tvalidation_1-rmse:1.14366\n",
      "[5]\tvalidation_0-rmse:1.18434\tvalidation_1-rmse:1.14016\n",
      "[6]\tvalidation_0-rmse:1.18103\tvalidation_1-rmse:1.13716\n",
      "[7]\tvalidation_0-rmse:1.17421\tvalidation_1-rmse:1.13323\n",
      "[8]\tvalidation_0-rmse:1.16927\tvalidation_1-rmse:1.12976\n",
      "[9]\tvalidation_0-rmse:1.16556\tvalidation_1-rmse:1.12668\n",
      "[10]\tvalidation_0-rmse:1.16119\tvalidation_1-rmse:1.12302\n",
      "[11]\tvalidation_0-rmse:1.15660\tvalidation_1-rmse:1.11936\n",
      "[12]\tvalidation_0-rmse:1.15313\tvalidation_1-rmse:1.11620\n",
      "[13]\tvalidation_0-rmse:1.14918\tvalidation_1-rmse:1.11309\n",
      "[14]\tvalidation_0-rmse:1.14629\tvalidation_1-rmse:1.11048\n",
      "[15]\tvalidation_0-rmse:1.13817\tvalidation_1-rmse:1.10772\n",
      "[16]\tvalidation_0-rmse:1.13229\tvalidation_1-rmse:1.10424\n",
      "[17]\tvalidation_0-rmse:1.12778\tvalidation_1-rmse:1.10147\n",
      "[18]\tvalidation_0-rmse:1.12296\tvalidation_1-rmse:1.09817\n",
      "[19]\tvalidation_0-rmse:1.11948\tvalidation_1-rmse:1.09564\n",
      "[20]\tvalidation_0-rmse:1.11459\tvalidation_1-rmse:1.09251\n",
      "[21]\tvalidation_0-rmse:1.11175\tvalidation_1-rmse:1.09049\n",
      "[22]\tvalidation_0-rmse:1.10766\tvalidation_1-rmse:1.08769\n",
      "[23]\tvalidation_0-rmse:1.10376\tvalidation_1-rmse:1.08484\n",
      "[24]\tvalidation_0-rmse:1.09984\tvalidation_1-rmse:1.08219\n",
      "[25]\tvalidation_0-rmse:1.09560\tvalidation_1-rmse:1.07999\n",
      "[26]\tvalidation_0-rmse:1.09201\tvalidation_1-rmse:1.07760\n",
      "[27]\tvalidation_0-rmse:1.08865\tvalidation_1-rmse:1.07526\n",
      "[28]\tvalidation_0-rmse:1.08553\tvalidation_1-rmse:1.07295\n",
      "[29]\tvalidation_0-rmse:1.08285\tvalidation_1-rmse:1.07087\n",
      "[30]\tvalidation_0-rmse:1.07918\tvalidation_1-rmse:1.06830\n",
      "[31]\tvalidation_0-rmse:1.07568\tvalidation_1-rmse:1.06575\n",
      "[32]\tvalidation_0-rmse:1.07212\tvalidation_1-rmse:1.06315\n",
      "[33]\tvalidation_0-rmse:1.06885\tvalidation_1-rmse:1.06069\n",
      "[34]\tvalidation_0-rmse:1.06547\tvalidation_1-rmse:1.05802\n",
      "[35]\tvalidation_0-rmse:1.06220\tvalidation_1-rmse:1.05550\n",
      "[36]\tvalidation_0-rmse:1.05930\tvalidation_1-rmse:1.05320\n",
      "[37]\tvalidation_0-rmse:1.05683\tvalidation_1-rmse:1.05124\n",
      "[38]\tvalidation_0-rmse:1.05424\tvalidation_1-rmse:1.04930\n",
      "[39]\tvalidation_0-rmse:1.05135\tvalidation_1-rmse:1.04702\n",
      "[40]\tvalidation_0-rmse:1.04848\tvalidation_1-rmse:1.04496\n",
      "[41]\tvalidation_0-rmse:1.04558\tvalidation_1-rmse:1.04270\n",
      "[42]\tvalidation_0-rmse:1.04351\tvalidation_1-rmse:1.04095\n",
      "[43]\tvalidation_0-rmse:1.04056\tvalidation_1-rmse:1.03868\n",
      "[44]\tvalidation_0-rmse:1.03759\tvalidation_1-rmse:1.03653\n",
      "[45]\tvalidation_0-rmse:1.03486\tvalidation_1-rmse:1.03433\n",
      "[46]\tvalidation_0-rmse:1.03288\tvalidation_1-rmse:1.03246\n",
      "[47]\tvalidation_0-rmse:1.03092\tvalidation_1-rmse:1.03091\n",
      "[48]\tvalidation_0-rmse:1.02826\tvalidation_1-rmse:1.02898\n",
      "[49]\tvalidation_0-rmse:1.02625\tvalidation_1-rmse:1.02719\n",
      "[50]\tvalidation_0-rmse:1.02402\tvalidation_1-rmse:1.02545\n",
      "[51]\tvalidation_0-rmse:1.02180\tvalidation_1-rmse:1.02392\n",
      "[52]\tvalidation_0-rmse:1.01901\tvalidation_1-rmse:1.02241\n",
      "[53]\tvalidation_0-rmse:1.01614\tvalidation_1-rmse:1.02081\n",
      "[54]\tvalidation_0-rmse:1.01360\tvalidation_1-rmse:1.01921\n",
      "[55]\tvalidation_0-rmse:1.01145\tvalidation_1-rmse:1.01766\n",
      "[56]\tvalidation_0-rmse:1.00891\tvalidation_1-rmse:1.01590\n",
      "[57]\tvalidation_0-rmse:1.00735\tvalidation_1-rmse:1.01475\n",
      "[58]\tvalidation_0-rmse:1.00476\tvalidation_1-rmse:1.01284\n",
      "[59]\tvalidation_0-rmse:1.00284\tvalidation_1-rmse:1.01137\n",
      "[60]\tvalidation_0-rmse:1.00122\tvalidation_1-rmse:1.01013\n",
      "[61]\tvalidation_0-rmse:0.99897\tvalidation_1-rmse:1.00869\n",
      "[62]\tvalidation_0-rmse:0.99703\tvalidation_1-rmse:1.00724\n",
      "[63]\tvalidation_0-rmse:0.99452\tvalidation_1-rmse:1.00564\n",
      "[64]\tvalidation_0-rmse:0.99215\tvalidation_1-rmse:1.00422\n",
      "[65]\tvalidation_0-rmse:0.98985\tvalidation_1-rmse:1.00263\n",
      "[66]\tvalidation_0-rmse:0.98770\tvalidation_1-rmse:1.00118\n",
      "[67]\tvalidation_0-rmse:0.98589\tvalidation_1-rmse:0.99995\n",
      "[68]\tvalidation_0-rmse:0.98376\tvalidation_1-rmse:0.99841\n",
      "[69]\tvalidation_0-rmse:0.98207\tvalidation_1-rmse:0.99725\n",
      "[70]\tvalidation_0-rmse:0.98050\tvalidation_1-rmse:0.99594\n",
      "[71]\tvalidation_0-rmse:0.97890\tvalidation_1-rmse:0.99470\n",
      "[72]\tvalidation_0-rmse:0.97691\tvalidation_1-rmse:0.99346\n",
      "[73]\tvalidation_0-rmse:0.97430\tvalidation_1-rmse:0.99207\n",
      "[74]\tvalidation_0-rmse:0.97171\tvalidation_1-rmse:0.99074\n",
      "[75]\tvalidation_0-rmse:0.96899\tvalidation_1-rmse:0.98948\n",
      "[76]\tvalidation_0-rmse:0.96691\tvalidation_1-rmse:0.98842\n",
      "[77]\tvalidation_0-rmse:0.96533\tvalidation_1-rmse:0.98754\n",
      "[78]\tvalidation_0-rmse:0.96315\tvalidation_1-rmse:0.98634\n",
      "[79]\tvalidation_0-rmse:0.96164\tvalidation_1-rmse:0.98535\n",
      "[80]\tvalidation_0-rmse:0.95967\tvalidation_1-rmse:0.98414\n",
      "[81]\tvalidation_0-rmse:0.95767\tvalidation_1-rmse:0.98298\n",
      "[82]\tvalidation_0-rmse:0.95603\tvalidation_1-rmse:0.98204\n",
      "[83]\tvalidation_0-rmse:0.95403\tvalidation_1-rmse:0.98077\n",
      "[84]\tvalidation_0-rmse:0.95241\tvalidation_1-rmse:0.97988\n",
      "[85]\tvalidation_0-rmse:0.95090\tvalidation_1-rmse:0.97893\n",
      "[86]\tvalidation_0-rmse:0.94920\tvalidation_1-rmse:0.97792\n",
      "[87]\tvalidation_0-rmse:0.94771\tvalidation_1-rmse:0.97704\n",
      "[88]\tvalidation_0-rmse:0.94583\tvalidation_1-rmse:0.97582\n",
      "[89]\tvalidation_0-rmse:0.94393\tvalidation_1-rmse:0.97478\n",
      "[90]\tvalidation_0-rmse:0.94213\tvalidation_1-rmse:0.97372\n",
      "[91]\tvalidation_0-rmse:0.94082\tvalidation_1-rmse:0.97291\n",
      "[92]\tvalidation_0-rmse:0.93978\tvalidation_1-rmse:0.97219\n",
      "[93]\tvalidation_0-rmse:0.93844\tvalidation_1-rmse:0.97124\n",
      "[94]\tvalidation_0-rmse:0.93681\tvalidation_1-rmse:0.97024\n",
      "[95]\tvalidation_0-rmse:0.93520\tvalidation_1-rmse:0.96925\n",
      "[96]\tvalidation_0-rmse:0.93358\tvalidation_1-rmse:0.96825\n",
      "[97]\tvalidation_0-rmse:0.93222\tvalidation_1-rmse:0.96747\n",
      "[98]\tvalidation_0-rmse:0.93081\tvalidation_1-rmse:0.96656\n",
      "[99]\tvalidation_0-rmse:0.92944\tvalidation_1-rmse:0.96576\n",
      "Wall time: 17min 9s\n"
     ]
    }
   ],
   "source": [
    "%%time\n",
    "regressor_ = xgtrain()"
   ]
  },
  {
   "cell_type": "code",
   "execution_count": 89,
   "metadata": {},
   "outputs": [],
   "source": [
    "predictions = regressor_.predict(new_train[new_train.date_block_num == 34].drop(['item_cnt_month'], axis = 1).values)"
   ]
  },
  {
   "cell_type": "code",
   "execution_count": 90,
   "metadata": {},
   "outputs": [
    {
     "data": {
      "image/png": "[encoded data removed]",
      "text/plain": [
       "<Figure size 842.4x595.44 with 1 Axes>"
      ]
     },
     "metadata": {
      "needs_background": "light"
     },
     "output_type": "display_data"
    }
   ],
   "source": [
    "from matplotlib import rcParams\n",
    "rcParams['figure.figsize'] = 11.7,8.27\n",
    "cols = new_train.drop('item_cnt_month', axis = 1).columns\n",
    "plt.barh(cols, regressor_.feature_importances_)\n",
    "plt.show()"
   ]
  },
  {
   "cell_type": "code",
   "execution_count": 91,
   "metadata": {},
   "outputs": [],
   "source": [
    "submission['item_cnt_month'] = predictions"
   ]
  },
  {
   "cell_type": "code",
   "execution_count": 92,
   "metadata": {},
   "outputs": [],
   "source": [
    "submission.to_csv('sales_prediction_Saida.csv', index=False)"
   ]
  },
  {
   "cell_type": "code",
   "execution_count": null,
   "metadata": {},
   "outputs": [],
   "source": []
  },
  {
   "cell_type": "code",
   "execution_count": null,
   "metadata": {},
   "outputs": [],
   "source": []
  },
  {
   "cell_type": "code",
   "execution_count": null,
   "metadata": {},
   "outputs": [],
   "source": []
  },
  {
   "cell_type": "code",
   "execution_count": null,
   "metadata": {},
   "outputs": [],
   "source": []
  }
 ],
 "metadata": {
  "kernelspec": {
   "display_name": "Python 3",
   "language": "python",
   "name": "python3"
  },
  "language_info": {
   "codemirror_mode": {
    "name": "ipython",
    "version": 3
   },
   "file_extension": ".py",
   "mimetype": "text/x-python",
   "name": "python",
   "nbconvert_exporter": "python",
   "pygments_lexer": "ipython3",
   "version": "3.8.3"
  }
 },
 "nbformat": 4,
 "nbformat_minor": 4
}
